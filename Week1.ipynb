{
  "nbformat": 4,
  "nbformat_minor": 0,
  "metadata": {
    "colab": {
      "provenance": [],
      "authorship_tag": "ABX9TyMxdgz638vJ5XnnEMg9jxD4",
      "include_colab_link": true
    },
    "kernelspec": {
      "name": "python3",
      "display_name": "Python 3"
    },
    "language_info": {
      "name": "python"
    }
  },
  "cells": [
    {
      "cell_type": "markdown",
      "metadata": {
        "id": "view-in-github",
        "colab_type": "text"
      },
      "source": [
        "<a href=\"https://colab.research.google.com/github/shahzad-r1zv1/Python_Course/blob/main/Week1.ipynb\" target=\"_parent\"><img src=\"https://colab.research.google.com/assets/colab-badge.svg\" alt=\"Open In Colab\"/></a>"
      ]
    },
    {
      "cell_type": "markdown",
      "source": [
        "\n",
        "# ===============================\n",
        "# Week 1: Introduction to Python\n",
        "# ===============================\n",
        "\n",
        "### Task 1: Basic Input & Output"
      ],
      "metadata": {
        "id": "QMCgBWwMMaj3"
      }
    },
    {
      "cell_type": "code",
      "execution_count": null,
      "metadata": {
        "id": "nJp527knz8Lz"
      },
      "outputs": [],
      "source": [
        "# write the code to enter your name and age and print it\n",
        "name = input(\"Enter your name: \")\n",
        "age = int(input(\"Enter your age: \"))\n",
        "years_left = 100 - age\n",
        "print(f\"Hello, {name}! You will turn 100 in {years_left} years.\")\n"
      ]
    },
    {
      "cell_type": "markdown",
      "source": [
        "### Task 2: Basic Math Operations"
      ],
      "metadata": {
        "id": "kjemvmxvMqps"
      }
    },
    {
      "cell_type": "code",
      "source": [
        "\n",
        "num1 = int(input(\"Enter first number: \"))\n",
        "num2 = int(input(\"Enter second number: \"))\n",
        "\n",
        "print(f\"Addition: {num1 + num2}\")\n",
        "print(f\"Subtraction: {num1 - num2}\")\n",
        "print(f\"Multiplication: {num1 * num2}\")\n",
        "print(f\"Division: {num1 / num2}\")\n"
      ],
      "metadata": {
        "id": "XUItlIHAMZ89"
      },
      "execution_count": null,
      "outputs": []
    },
    {
      "cell_type": "markdown",
      "source": [
        "# ===============================\n",
        "# 2: Control Flow - If/Else & Loops\n",
        "# ===============================\n",
        "\n",
        "### Task 3: Even or Odd Checker"
      ],
      "metadata": {
        "id": "TqXsGxgbOy6c"
      }
    },
    {
      "cell_type": "code",
      "source": [
        "\n",
        "\n",
        "\n",
        "num = int(input(\"Enter a number: \"))\n",
        "if num % 2 == 0:\n",
        "    print(\"Even number\")\n",
        "else:\n",
        "    print(\"Odd number\")\n"
      ],
      "metadata": {
        "id": "1Vu8bYfYMx73"
      },
      "execution_count": null,
      "outputs": []
    },
    {
      "cell_type": "markdown",
      "source": [
        "### Task 4: Print numbers from 1 to 10 using a loop"
      ],
      "metadata": {
        "id": "Hgpru4hHO6AE"
      }
    },
    {
      "cell_type": "code",
      "source": [
        "\n",
        "for i in range(1, 11):\n",
        "    print(i)\n"
      ],
      "metadata": {
        "id": "SMgTe773N9tO"
      },
      "execution_count": null,
      "outputs": []
    },
    {
      "cell_type": "markdown",
      "source": [
        "### Task 5: Simple To-Do List"
      ],
      "metadata": {
        "id": "ePbsHqBhO8wF"
      }
    },
    {
      "cell_type": "code",
      "source": [
        "\n",
        "tasks = []\n",
        "while True:\n",
        "    task = input(\"Enter a task (or type 'done' to stop): \")\n",
        "    if task.lower() == 'done':\n",
        "        break\n",
        "    tasks.append(task)\n",
        "print(\"Your tasks:\", tasks)"
      ],
      "metadata": {
        "id": "VVPUb6MsOGPp"
      },
      "execution_count": null,
      "outputs": []
    },
    {
      "cell_type": "markdown",
      "source": [
        "# ===============================\n",
        "# 3: Functions & Python Testing (PyTest)\n",
        "# ===============================\n",
        "\n",
        "### Task 6: Rectangle Area Function"
      ],
      "metadata": {
        "id": "2A8UPSUQO-TW"
      }
    },
    {
      "cell_type": "code",
      "source": [
        "\n",
        "def calculate_area(length, width):\n",
        "    return length * width\n",
        "\n",
        "# Test the function\n",
        "print(\"Area of rectangle:\", calculate_area(5, 10))\n"
      ],
      "metadata": {
        "id": "0D5PCsCAOJUE"
      },
      "execution_count": null,
      "outputs": []
    },
    {
      "cell_type": "markdown",
      "source": [
        "# PyTest cannot run inside Google Colab\n",
        "# Save the function above in a separate Python file (local machine)\n",
        "# Then, run the following test script in your local terminal:"
      ],
      "metadata": {
        "id": "DIl1AgI7PBut"
      }
    },
    {
      "cell_type": "code",
      "source": [
        "\n",
        "\n",
        "\"\"\"\n",
        "# Save as test_area.py in local environment\n",
        "from main import calculate_area\n",
        "\n",
        "def test_calculate_area():\n",
        "    assert calculate_area(5, 10) == 50\n",
        "    assert calculate_area(3, 7) == 21\n",
        "\n",
        "# Run this command in terminal:\n",
        "# pytest test_area.py -v\n",
        "\"\"\"\n"
      ],
      "metadata": {
        "id": "WMUsqMfDOLzF"
      },
      "execution_count": null,
      "outputs": []
    },
    {
      "cell_type": "markdown",
      "source": [
        "# ===============================\n",
        "# 4: Lists, Dictionaries, and API Calls\n",
        "# ===============================\n",
        "\n",
        "### Task 7: Dictionary of Favorite Movies"
      ],
      "metadata": {
        "id": "1tRflia3PEUE"
      }
    },
    {
      "cell_type": "code",
      "source": [
        "\n",
        "favorite_movies = {\n",
        "    \"Alice\": \"Inception\",\n",
        "    \"Bob\": \"Interstellar\",\n",
        "    \"Charlie\": \"The Matrix\"\n",
        "}\n",
        "print(\"Favorite Movies:\", favorite_movies)\n"
      ],
      "metadata": {
        "id": "y-5bb-YPOPEJ"
      },
      "execution_count": null,
      "outputs": []
    },
    {
      "cell_type": "markdown",
      "source": [
        "### Task 8: Fetch from API"
      ],
      "metadata": {
        "id": "v2i8pycaPK4L"
      }
    },
    {
      "cell_type": "code",
      "source": [
        "\n",
        "import requests\n",
        "\n",
        "# Fetching Weather Data (Example API)\n",
        "response = requests.get(\"https://api.open-meteo.com/v1/forecast?latitude=43.65&longitude=79.38&current=temperature_2m,wind_speed_10m&hourly=temperature_2m,relative_humidity_2m,wind_speed_10m\")\n",
        "data = response.json()\n",
        "print(\"Weather Data:\", data)\n"
      ],
      "metadata": {
        "id": "QSzwoD-ROQla"
      },
      "execution_count": null,
      "outputs": []
    },
    {
      "cell_type": "markdown",
      "source": [
        "# ===============================\n",
        "# 5: Homework Assignment\n",
        "# ===============================\n",
        "\n",
        "### Task 9: Simple Calculator"
      ],
      "metadata": {
        "id": "goYbGY8_PP-b"
      }
    },
    {
      "cell_type": "code",
      "source": [
        "\n",
        "def calculator(num1, num2, operation):\n",
        "    if operation == \"add\":\n",
        "        # code for add\n",
        "    elif operation == \"subtract\":\n",
        "        # code for subtract\n",
        "    elif operation == \"multiply\":\n",
        "        # code for multiply\n",
        "    elif operation == \"divide\":\n",
        "        # code for divide\n",
        "    else:\n",
        "        return \"Invalid operation\"\n",
        "\n",
        "# User Input\n",
        "num1 = float(input(\"Enter first number: \"))\n",
        "num2 = float(input(\"Enter second number: \"))\n",
        "operation = input(\"Enter operation (add, subtract, multiply, divide): \")\n",
        "\n",
        "result = calculator(num1, num2, operation)\n",
        "print(\"Result:\", result)\n"
      ],
      "metadata": {
        "id": "MYCDvNE0OSlY"
      },
      "execution_count": null,
      "outputs": []
    },
    {
      "cell_type": "code",
      "source": [
        "# PyTest for Calculator (Run on Local Machine)\n",
        "\"\"\"\n",
        "# Save as test_calculator.py\n",
        "from main import calculator\n",
        "\n",
        "def test_calculator():\n",
        "    assert calculator(4, 2, \"add\") == 6\n",
        "    assert calculator(10, 5, \"divide\") == 2\n",
        "    assert calculator(3, 3, \"multiply\") == 9\n",
        "    assert calculator(10, 2, \"subtract\") == 8\n",
        "\n",
        "# Run in terminal:\n",
        "# pytest test_calculator.py -v\n",
        "\"\"\"\n"
      ],
      "metadata": {
        "id": "vcePRWWlOU72"
      },
      "execution_count": null,
      "outputs": []
    },
    {
      "cell_type": "markdown",
      "source": [
        "# Task 10: Week 1 Final Assignment - Smart Expense Tracker\n",
        "Goal: Build a Smart Expense Tracker that allows users to:\n",
        "\n",
        "*   Add expenses with details (date, category, amount).\n",
        "*   Display total spending.\n",
        "*  Identify if they are overspending based on a set budget.\n",
        "* Save expenses to a file.\n",
        "* Fetch and display the latest currency exchange rates using an API.\n",
        "* Write PyTest cases to validate key functions.\n",
        "\n",
        "\n",
        "\n",
        "---\n",
        "\n",
        "\n",
        "Assignment Overview\n",
        "\n",
        "You will use:\n",
        "\n",
        "* Variables & Data Types (to store expenses).\n",
        "* Lists & Dictionaries (to organize data).\n",
        "* If-Else & Loops (to process user input).\n",
        "* Functions (to modularize the code).\n",
        "* File Handling (to save and retrieve expenses).\n",
        "* APIs (requests) (to fetch currency exchange rates).\n",
        "* PyTest (to validate calculations)."
      ],
      "metadata": {
        "id": "SlY131CGPWgU"
      }
    },
    {
      "cell_type": "markdown",
      "source": [
        "Instructions:\n",
        "\n",
        "\n",
        "1.   Create a list of expenses where each expense is stored as a dictionary.\n",
        "2.   Ask the user for:\n",
        "\n",
        "\n",
        "*   Date of expense.\n",
        "*  Expense category (e.g., Food, Transport, Shopping).\n",
        "* Amount spent.\n",
        "\n",
        "3. Save the data and display total expenses."
      ],
      "metadata": {
        "id": "CXt9QevOQG_F"
      }
    },
    {
      "cell_type": "code",
      "source": [
        "# Expense Tracker - Collecting Expenses\n",
        "expenses = []\n",
        "\n",
        "while True:\n",
        "    date = input(\"Enter the date (YYYY-MM-DD) or type 'done' to stop: \")\n",
        "    if date.lower() == 'done':\n",
        "        break\n",
        "    category = input(\"Enter category (Food, Transport, Shopping, etc.): \")\n",
        "    amount = float(input(\"Enter amount spent: \"))\n",
        "\n",
        "    expense = {\"date\": date, \"category\": category, \"amount\": amount}\n",
        "    expenses.append(expense)\n",
        "\n",
        "# Display all expenses\n",
        "print(\"\\nYour Expenses:\")\n",
        "for expense in expenses:\n",
        "    print(expense)\n"
      ],
      "metadata": {
        "id": "G-JZ3u_gPULu"
      },
      "execution_count": null,
      "outputs": []
    },
    {
      "cell_type": "markdown",
      "source": [
        "Step 2: Set a Budget & Detect Overspending\n",
        "\n",
        "Instructions:\n",
        "\n",
        "* Ask the user for their monthly budget.\n",
        "* Compare the total expenses with the budget.\n",
        "* Print a warning if the user exceeds the budget."
      ],
      "metadata": {
        "id": "4flP9dShQkur"
      }
    },
    {
      "cell_type": "code",
      "source": [
        "# Calculate total spending\n",
        "total_spent = sum(expense[\"amount\"] for expense in expenses)\n",
        "print(f\"\\nTotal spent: ${total_spent:.2f}\")\n",
        "\n",
        "# Ask user for budget and check if they exceeded it\n",
        "budget = float(input(\"Enter your monthly budget: \"))\n",
        "\n",
        "# Check if the user is over budget\n"
      ],
      "metadata": {
        "id": "6BKnNijjQkRf"
      },
      "execution_count": null,
      "outputs": []
    },
    {
      "cell_type": "markdown",
      "source": [
        "Step 3: Save Expenses to a File\n",
        "\n",
        "Instructions:\n",
        "\n",
        "* Save all expenses to a CSV file (expenses.csv).\n",
        "* Allow the user to reload saved expenses when they restart the program."
      ],
      "metadata": {
        "id": "DFzlvdnvQln-"
      }
    },
    {
      "cell_type": "code",
      "source": [
        "import pandas as pd\n",
        "\n",
        "import pandas as pd\n",
        "\n",
        "# Save expenses to a CSV file\n",
        "# Load existing expenses if available\n"
      ],
      "metadata": {
        "id": "aVF2KFSpQmHD"
      },
      "execution_count": null,
      "outputs": []
    },
    {
      "cell_type": "markdown",
      "source": [
        "Step 4: Fetch Currency Exchange Rates (API)\n",
        "\n",
        "Instructions:\n",
        "\n",
        "* Fetch the latest exchange rates from an API.\n",
        "* Convert the total spending to EUR and GBP."
      ],
      "metadata": {
        "id": "4u3NiHbHZ9p5"
      }
    },
    {
      "cell_type": "code",
      "source": [
        "import requests\n",
        "\n",
        "import requests\n",
        "\n",
        "# Fetch exchange rates from an API\n",
        "# Convert total spending to EUR and GBP\n",
        "\n",
        "# print exchange rates\n",
        "# print total spent\n"
      ],
      "metadata": {
        "id": "mbYuxv8mQo5C"
      },
      "execution_count": null,
      "outputs": []
    },
    {
      "cell_type": "markdown",
      "source": [
        "Step 5: Write PyTest Cases\n",
        "\n",
        "Instructions:\n",
        "\n",
        "Write test cases for:\n",
        "* Budget Checking Function\n",
        "* Total Spending Calculation"
      ],
      "metadata": {
        "id": "YhSudf9kQorW"
      }
    },
    {
      "cell_type": "code",
      "source": [
        "# Save this as test_expense_tracker.py\n",
        "from main import calculate_budget_status, calculate_total_spent\n",
        "\n",
        "def test_calculate_total_spent():\n",
        "    # Write your test case here\n",
        "\n",
        "def test_calculate_budget_status():\n",
        "    # Write your test case here\n",
        "\n",
        "# Run tests:\n",
        "# pytest test_expense_tracker.py -v\n"
      ],
      "metadata": {
        "id": "W7u0tTlmaJoz"
      },
      "execution_count": null,
      "outputs": []
    },
    {
      "cell_type": "markdown",
      "source": [
        "Submission & Evaluation\n",
        "\n",
        "✅ Save your final notebook as Week1_Assignment.ipynb.\n",
        "\n",
        "✅ Upload it to your Google Drive folder.\n",
        "\n",
        "✅ Submit the Colab link to the team chat for review.\n",
        "\n",
        "\n",
        "\n",
        "---\n",
        "\n",
        "\n",
        "📊 Evaluation Criteria:\n",
        "\n",
        "\n",
        "✅ Correct implementation of expense tracking & budget checking.\n",
        "\n",
        "✅ Data is properly saved & retrieved from CSV.\n",
        "\n",
        "✅ API call successfully fetches exchange rates.\n",
        "\n",
        "✅ At least two PyTest cases implemented correctly."
      ],
      "metadata": {
        "id": "sGiAWj9BaVDp"
      }
    },
    {
      "cell_type": "markdown",
      "source": [
        "### Bonus Challenge: Add a Pie Chart for Expense Categories!\n",
        "\n",
        "### If you finish early, add a pie chart to visualize spending by category using matplotlib."
      ],
      "metadata": {
        "id": "x8vCaAVMacPX"
      }
    },
    {
      "cell_type": "code",
      "source": [
        "import matplotlib.pyplot as plt\n",
        "\n",
        "# Group expenses by category\n",
        "\n",
        "# Plot Pie Chart\n",
        "\n",
        "# plt.show()\n"
      ],
      "metadata": {
        "id": "wciKUbGNalvZ"
      },
      "execution_count": null,
      "outputs": []
    }
  ]
}