{
  "nbformat": 4,
  "nbformat_minor": 0,
  "metadata": {
    "colab": {
      "provenance": [],
      "authorship_tag": "ABX9TyPJXHOIGpIF/RYbX/4YwmQc",
      "include_colab_link": true
    },
    "kernelspec": {
      "name": "python3",
      "display_name": "Python 3"
    },
    "language_info": {
      "name": "python"
    }
  },
  "cells": [
    {
      "cell_type": "markdown",
      "metadata": {
        "id": "view-in-github",
        "colab_type": "text"
      },
      "source": [
        "<a href=\"https://colab.research.google.com/github/shahzad-r1zv1/Python_Course/blob/main/Week1.ipynb\" target=\"_parent\"><img src=\"https://colab.research.google.com/assets/colab-badge.svg\" alt=\"Open In Colab\"/></a>"
      ]
    },
    {
      "cell_type": "markdown",
      "source": [
        "\n",
        "# ===============================\n",
        "# Week 1: Introduction to Python\n",
        "# ===============================\n",
        "\n",
        "### Task 1: Basic Input & Output"
      ],
      "metadata": {
        "id": "QMCgBWwMMaj3"
      }
    },
    {
      "cell_type": "code",
      "execution_count": null,
      "metadata": {
        "id": "nJp527knz8Lz"
      },
      "outputs": [],
      "source": [
        "# write the code to enter your name and age and print it\n",
        "name = input(\"Enter your name: \")\n",
        "age = int(input(\"Enter your age: \"))\n",
        "years_left = 100 - age\n",
        "print(f\"Hello, {name}! You will turn 100 in {years_left} years.\")\n"
      ]
    },
    {
      "cell_type": "markdown",
      "source": [
        "# Task 2: Basic Math Operations"
      ],
      "metadata": {
        "id": "kjemvmxvMqps"
      }
    },
    {
      "cell_type": "code",
      "source": [
        "\n",
        "num1 = int(input(\"Enter first number: \"))\n",
        "num2 = int(input(\"Enter second number: \"))\n",
        "\n",
        "print(f\"Addition: {num1 + num2}\")\n",
        "print(f\"Subtraction: {num1 - num2}\")\n",
        "print(f\"Multiplication: {num1 * num2}\")\n",
        "print(f\"Division: {num1 / num2}\")\n"
      ],
      "metadata": {
        "id": "XUItlIHAMZ89"
      },
      "execution_count": null,
      "outputs": []
    },
    {
      "cell_type": "markdown",
      "source": [
        "# ===============================\n",
        "# 2: Control Flow - If/Else & Loops\n",
        "# ===============================\n",
        "\n",
        "# Task 3: Even or Odd Checker"
      ],
      "metadata": {
        "id": "TqXsGxgbOy6c"
      }
    },
    {
      "cell_type": "code",
      "source": [
        "\n",
        "\n",
        "\n",
        "num = int(input(\"Enter a number: \"))\n",
        "if num % 2 == 0:\n",
        "    print(\"Even number\")\n",
        "else:\n",
        "    print(\"Odd number\")\n"
      ],
      "metadata": {
        "id": "1Vu8bYfYMx73"
      },
      "execution_count": null,
      "outputs": []
    },
    {
      "cell_type": "markdown",
      "source": [
        "# Task 4: Print numbers from 1 to 10 using a loop"
      ],
      "metadata": {
        "id": "Hgpru4hHO6AE"
      }
    },
    {
      "cell_type": "code",
      "source": [
        "\n",
        "for i in range(1, 11):\n",
        "    print(i)\n"
      ],
      "metadata": {
        "id": "SMgTe773N9tO"
      },
      "execution_count": null,
      "outputs": []
    },
    {
      "cell_type": "markdown",
      "source": [
        "# Task 5: Simple To-Do List"
      ],
      "metadata": {
        "id": "ePbsHqBhO8wF"
      }
    },
    {
      "cell_type": "code",
      "source": [
        "\n",
        "tasks = []\n",
        "while True:\n",
        "    task = input(\"Enter a task (or type 'done' to stop): \")\n",
        "    if task.lower() == 'done':\n",
        "        break\n",
        "    tasks.append(task)\n",
        "print(\"Your tasks:\", tasks)"
      ],
      "metadata": {
        "id": "VVPUb6MsOGPp"
      },
      "execution_count": null,
      "outputs": []
    },
    {
      "cell_type": "markdown",
      "source": [
        "# ===============================\n",
        "# 3: Functions & Python Testing (PyTest)\n",
        "# ===============================\n",
        "\n",
        "# Task 6: Rectangle Area Function"
      ],
      "metadata": {
        "id": "2A8UPSUQO-TW"
      }
    },
    {
      "cell_type": "code",
      "source": [
        "\n",
        "def calculate_area(length, width):\n",
        "    return length * width\n",
        "\n",
        "# Test the function\n",
        "print(\"Area of rectangle:\", calculate_area(5, 10))\n"
      ],
      "metadata": {
        "id": "0D5PCsCAOJUE"
      },
      "execution_count": null,
      "outputs": []
    },
    {
      "cell_type": "markdown",
      "source": [
        "# PyTest cannot run inside Google Colab\n",
        "# Save the function above in a separate Python file (local machine)\n",
        "# Then, run the following test script in your local terminal:"
      ],
      "metadata": {
        "id": "DIl1AgI7PBut"
      }
    },
    {
      "cell_type": "code",
      "source": [
        "\n",
        "\n",
        "\"\"\"\n",
        "# Save as test_area.py in local environment\n",
        "from main import calculate_area\n",
        "\n",
        "def test_calculate_area():\n",
        "    assert calculate_area(5, 10) == 50\n",
        "    assert calculate_area(3, 7) == 21\n",
        "\n",
        "# Run this command in terminal:\n",
        "# pytest test_area.py -v\n",
        "\"\"\"\n"
      ],
      "metadata": {
        "id": "WMUsqMfDOLzF"
      },
      "execution_count": null,
      "outputs": []
    },
    {
      "cell_type": "markdown",
      "source": [
        "# ===============================\n",
        "# 4: Lists, Dictionaries, and API Calls\n",
        "# ===============================\n",
        "\n",
        "# Task 7: Dictionary of Favorite Movies"
      ],
      "metadata": {
        "id": "1tRflia3PEUE"
      }
    },
    {
      "cell_type": "code",
      "source": [
        "\n",
        "favorite_movies = {\n",
        "    \"Alice\": \"Inception\",\n",
        "    \"Bob\": \"Interstellar\",\n",
        "    \"Charlie\": \"The Matrix\"\n",
        "}\n",
        "print(\"Favorite Movies:\", favorite_movies)\n"
      ],
      "metadata": {
        "id": "y-5bb-YPOPEJ"
      },
      "execution_count": null,
      "outputs": []
    },
    {
      "cell_type": "markdown",
      "source": [
        "# Task 8: Fetch from API"
      ],
      "metadata": {
        "id": "v2i8pycaPK4L"
      }
    },
    {
      "cell_type": "code",
      "source": [
        "\n",
        "import requests\n",
        "\n",
        "# Fetching Bitcoin Price Data (Example API)\n",
        "response = requests.get(\"https://api.coindesk.com/v1/bpi/currentprice.json\")\n",
        "data = response.json()\n",
        "print(\"Bitcoin Price Data:\", data)\n"
      ],
      "metadata": {
        "id": "QSzwoD-ROQla"
      },
      "execution_count": null,
      "outputs": []
    },
    {
      "cell_type": "markdown",
      "source": [
        "# ===============================\n",
        "# 5: Homework Assignment\n",
        "# ===============================\n",
        "\n",
        "# Task 9: Simple Calculator"
      ],
      "metadata": {
        "id": "goYbGY8_PP-b"
      }
    },
    {
      "cell_type": "code",
      "source": [
        "\n",
        "def calculator(num1, num2, operation):\n",
        "    if operation == \"add\":\n",
        "        return num1 + num2\n",
        "    elif operation == \"subtract\":\n",
        "        return num1 - num2\n",
        "    elif operation == \"multiply\":\n",
        "        return num1 * num2\n",
        "    elif operation == \"divide\":\n",
        "        return num1 / num2\n",
        "    else:\n",
        "        return \"Invalid operation\"\n",
        "\n",
        "# User Input\n",
        "num1 = float(input(\"Enter first number: \"))\n",
        "num2 = float(input(\"Enter second number: \"))\n",
        "operation = input(\"Enter operation (add, subtract, multiply, divide): \")\n",
        "\n",
        "result = calculator(num1, num2, operation)\n",
        "print(\"Result:\", result)\n"
      ],
      "metadata": {
        "id": "MYCDvNE0OSlY"
      },
      "execution_count": null,
      "outputs": []
    },
    {
      "cell_type": "code",
      "source": [
        "# PyTest for Calculator (Run on Local Machine)\n",
        "\"\"\"\n",
        "# Save as test_calculator.py\n",
        "from main import calculator\n",
        "\n",
        "def test_calculator():\n",
        "    assert calculator(4, 2, \"add\") == 6\n",
        "    assert calculator(10, 5, \"divide\") == 2\n",
        "    assert calculator(3, 3, \"multiply\") == 9\n",
        "    assert calculator(10, 2, \"subtract\") == 8\n",
        "\n",
        "# Run in terminal:\n",
        "# pytest test_calculator.py -v\n",
        "\"\"\"\n"
      ],
      "metadata": {
        "id": "vcePRWWlOU72"
      },
      "execution_count": null,
      "outputs": []
    },
    {
      "cell_type": "markdown",
      "source": [
        "# Task 10: Week 1 Final Assignment - Smart Expense Tracker\n",
        "🎯 Goal: Build a Smart Expense Tracker that allows users to:\n",
        "\n",
        "*   Add expenses with details (date, category, amount).\n",
        "*   Display total spending.\n",
        "*  Identify if they are overspending based on a set budget.\n",
        "* Save expenses to a file.\n",
        "* Fetch and display the latest currency exchange rates using an API.\n",
        "* Write PyTest cases to validate key functions.\n",
        "\n",
        "\n",
        "\n",
        "---\n",
        "\n",
        "\n",
        "📂 Assignment Overview\n",
        "\n",
        "💡 You will use:\n",
        "\n",
        "* Variables & Data Types (to store expenses).\n",
        "* Lists & Dictionaries (to organize data).\n",
        "* If-Else & Loops (to process user input).\n",
        "* Functions (to modularize the code).\n",
        "* File Handling (to save and retrieve expenses).\n",
        "* APIs (requests) (to fetch currency exchange rates).\n",
        "* PyTest (to validate calculations)."
      ],
      "metadata": {
        "id": "SlY131CGPWgU"
      }
    },
    {
      "cell_type": "code",
      "source": [],
      "metadata": {
        "id": "G-JZ3u_gPULu"
      },
      "execution_count": null,
      "outputs": []
    }
  ]
}