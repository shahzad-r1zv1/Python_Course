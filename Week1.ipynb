{
  "nbformat": 4,
  "nbformat_minor": 0,
  "metadata": {
    "colab": {
      "provenance": [],
      "authorship_tag": "ABX9TyMeI9LcA/IVxUQtjAf38Gi8",
      "include_colab_link": true
    },
    "kernelspec": {
      "name": "python3",
      "display_name": "Python 3"
    },
    "language_info": {
      "name": "python"
    }
  },
  "cells": [
    {
      "cell_type": "markdown",
      "metadata": {
        "id": "view-in-github",
        "colab_type": "text"
      },
      "source": [
        "<a href=\"https://colab.research.google.com/github/shahzad-r1zv1/Python_Course/blob/main/Week1.ipynb\" target=\"_parent\"><img src=\"https://colab.research.google.com/assets/colab-badge.svg\" alt=\"Open In Colab\"/></a>"
      ]
    },
    {
      "cell_type": "markdown",
      "source": [
        "\n",
        "# ===============================\n",
        "# Week 1: Introduction to Python\n",
        "# ===============================\n",
        "\n",
        "### Task 1: Basic Input & Output"
      ],
      "metadata": {
        "id": "QMCgBWwMMaj3"
      }
    },
    {
      "cell_type": "code",
      "execution_count": 1,
      "metadata": {
        "id": "nJp527knz8Lz",
        "colab": {
          "base_uri": "https://localhost:8080/"
        },
        "outputId": "beb900ac-da3f-4d8e-9670-68b9289e0ee8"
      },
      "outputs": [
        {
          "output_type": "stream",
          "name": "stdout",
          "text": [
            "Enter your name: Shahzad\n",
            "Enter your age: 42\n",
            "Hello, Shahzad! You will turn 100 in 58 years.\n"
          ]
        }
      ],
      "source": [
        "# write the code to enter your name and age and print it\n",
        "name = input(\"Enter your name: \")\n",
        "age = int(input(\"Enter your age: \"))\n",
        "years_left = 100 - age\n",
        "print(f\"Hello, {name}! You will turn 100 in {years_left} years.\")\n"
      ]
    },
    {
      "cell_type": "markdown",
      "source": [
        "### Task 2: Basic Math Operations"
      ],
      "metadata": {
        "id": "kjemvmxvMqps"
      }
    },
    {
      "cell_type": "code",
      "source": [
        "\n",
        "num1 = int(input(\"Enter first number: \"))\n",
        "num2 = int(input(\"Enter second number: \"))\n",
        "\n",
        "print(f\"Addition: {num1 + num2}\")\n",
        "print(f\"Subtraction: {num1 - num2}\")\n",
        "print(f\"Multiplication: {num1 * num2}\")\n",
        "print(f\"Division: {num1 / num2}\")\n"
      ],
      "metadata": {
        "colab": {
          "base_uri": "https://localhost:8080/"
        },
        "id": "XUItlIHAMZ89",
        "outputId": "86d44565-4a83-4e76-ceee-9dbee96d49d7"
      },
      "execution_count": 2,
      "outputs": [
        {
          "output_type": "stream",
          "name": "stdout",
          "text": [
            "Enter first number: 3\n",
            "Enter second number: 4\n",
            "Addition: 7\n",
            "Subtraction: -1\n",
            "Multiplication: 12\n",
            "Division: 0.75\n"
          ]
        }
      ]
    },
    {
      "cell_type": "markdown",
      "source": [
        "# ===============================\n",
        "# 2: Control Flow - If/Else & Loops\n",
        "# ===============================\n",
        "\n",
        "### Task 3: Even or Odd Checker"
      ],
      "metadata": {
        "id": "TqXsGxgbOy6c"
      }
    },
    {
      "cell_type": "code",
      "source": [
        "\n",
        "\n",
        "\n",
        "num = int(input(\"Enter a number: \"))\n",
        "if num % 2 == 0:\n",
        "    print(\"Even number\")\n",
        "else:\n",
        "    print(\"Odd number\")\n"
      ],
      "metadata": {
        "colab": {
          "base_uri": "https://localhost:8080/"
        },
        "id": "1Vu8bYfYMx73",
        "outputId": "234c79db-f9a3-47eb-e5ff-68708e9a1791"
      },
      "execution_count": 3,
      "outputs": [
        {
          "output_type": "stream",
          "name": "stdout",
          "text": [
            "Enter a number: 4\n",
            "Even number\n"
          ]
        }
      ]
    },
    {
      "cell_type": "markdown",
      "source": [
        "### Task 4: Print numbers from 1 to 10 using a loop"
      ],
      "metadata": {
        "id": "Hgpru4hHO6AE"
      }
    },
    {
      "cell_type": "code",
      "source": [
        "\n",
        "for i in range(1, 11):\n",
        "    print(i)\n"
      ],
      "metadata": {
        "colab": {
          "base_uri": "https://localhost:8080/"
        },
        "id": "SMgTe773N9tO",
        "outputId": "8a172148-1925-4619-b2cf-f8bf5ce520c0"
      },
      "execution_count": 4,
      "outputs": [
        {
          "output_type": "stream",
          "name": "stdout",
          "text": [
            "1\n",
            "2\n",
            "3\n",
            "4\n",
            "5\n",
            "6\n",
            "7\n",
            "8\n",
            "9\n",
            "10\n"
          ]
        }
      ]
    },
    {
      "cell_type": "markdown",
      "source": [
        "### Task 5: Simple To-Do List"
      ],
      "metadata": {
        "id": "ePbsHqBhO8wF"
      }
    },
    {
      "cell_type": "code",
      "source": [
        "\n",
        "tasks = []\n",
        "while True:\n",
        "    task = input(\"Enter a task (or type 'done' to stop): \")\n",
        "    if task.lower() == 'done':\n",
        "        break\n",
        "    tasks.append(task)\n",
        "print(\"Your tasks:\", tasks)"
      ],
      "metadata": {
        "colab": {
          "base_uri": "https://localhost:8080/"
        },
        "id": "VVPUb6MsOGPp",
        "outputId": "f9139fe4-6830-45d1-887e-5614474e6f60"
      },
      "execution_count": 5,
      "outputs": [
        {
          "output_type": "stream",
          "name": "stdout",
          "text": [
            "Enter a task (or type 'done' to stop): Learn Python\n",
            "Enter a task (or type 'done' to stop): Eat Lunch\n",
            "Enter a task (or type 'done' to stop): Play with kids\n",
            "Enter a task (or type 'done' to stop): Email Shahzad\n",
            "Enter a task (or type 'done' to stop): done\n",
            "Your tasks: ['Learn Python', 'Eat Lunch', 'Play with kids', 'Email Shahzad']\n"
          ]
        }
      ]
    },
    {
      "cell_type": "markdown",
      "source": [
        "# ===============================\n",
        "# 3: Functions & Python Testing (PyTest)\n",
        "# ===============================\n",
        "\n",
        "### Task 6: Rectangle Area Function"
      ],
      "metadata": {
        "id": "2A8UPSUQO-TW"
      }
    },
    {
      "cell_type": "code",
      "source": [
        "\n",
        "def calculate_area(length, width):\n",
        "    return length * width\n",
        "\n",
        "# Test the function\n",
        "print(\"Area of rectangle:\", calculate_area(5, 10))\n"
      ],
      "metadata": {
        "colab": {
          "base_uri": "https://localhost:8080/"
        },
        "id": "0D5PCsCAOJUE",
        "outputId": "f7c8afd9-5f71-493e-c6f4-2c6b2d7ee30d"
      },
      "execution_count": 6,
      "outputs": [
        {
          "output_type": "stream",
          "name": "stdout",
          "text": [
            "Area of rectangle: 50\n"
          ]
        }
      ]
    },
    {
      "cell_type": "markdown",
      "source": [
        "# PyTest cannot run inside Google Colab\n",
        "# Save the function above in a separate Python file (local machine)\n",
        "# Then, run the following test script in your local terminal:"
      ],
      "metadata": {
        "id": "DIl1AgI7PBut"
      }
    },
    {
      "cell_type": "code",
      "source": [
        "\n",
        "\n",
        "\"\"\"\n",
        "# Save as test_area.py in local environment\n",
        "from main import calculate_area\n",
        "\n",
        "def test_calculate_area():\n",
        "    assert calculate_area(5, 10) == 50\n",
        "    assert calculate_area(3, 7) == 21\n",
        "\n",
        "# Run this command in terminal:\n",
        "# pytest test_area.py -v\n",
        "\"\"\"\n"
      ],
      "metadata": {
        "id": "WMUsqMfDOLzF"
      },
      "execution_count": null,
      "outputs": []
    },
    {
      "cell_type": "markdown",
      "source": [
        "# ===============================\n",
        "# 4: Lists, Dictionaries, and API Calls\n",
        "# ===============================\n",
        "\n",
        "### Task 7: Dictionary of Favorite Movies"
      ],
      "metadata": {
        "id": "1tRflia3PEUE"
      }
    },
    {
      "cell_type": "code",
      "source": [
        "\n",
        "favorite_movies = {\n",
        "    \"Alice\": \"Inception\",\n",
        "    \"Bob\": \"Interstellar\",\n",
        "    \"Charlie\": \"The Matrix\"\n",
        "}\n",
        "print(\"Favorite Movies:\", favorite_movies)\n"
      ],
      "metadata": {
        "colab": {
          "base_uri": "https://localhost:8080/"
        },
        "id": "y-5bb-YPOPEJ",
        "outputId": "57a434d0-8afa-4145-e217-d7cf386a847b"
      },
      "execution_count": 7,
      "outputs": [
        {
          "output_type": "stream",
          "name": "stdout",
          "text": [
            "Favorite Movies: {'Alice': 'Inception', 'Bob': 'Interstellar', 'Charlie': 'The Matrix'}\n"
          ]
        }
      ]
    },
    {
      "cell_type": "markdown",
      "source": [
        "### Task 8: Fetch from API"
      ],
      "metadata": {
        "id": "v2i8pycaPK4L"
      }
    },
    {
      "cell_type": "code",
      "source": [
        "\n",
        "import requests\n",
        "\n",
        "# Fetching Weather Data (Example API)\n",
        "response = requests.get(\"https://api.open-meteo.com/v1/forecast?latitude=43.65&longitude=79.38&current=temperature_2m,wind_speed_10m&hourly=temperature_2m,relative_humidity_2m,wind_speed_10m\")\n",
        "data = response.json()\n",
        "print(\"Weather Data:\", data)\n"
      ],
      "metadata": {
        "colab": {
          "base_uri": "https://localhost:8080/"
        },
        "id": "QSzwoD-ROQla",
        "outputId": "34c42446-7a4c-41a9-fb28-b27306bf69d6"
      },
      "execution_count": 12,
      "outputs": [
        {
          "output_type": "stream",
          "name": "stdout",
          "text": [
            "Weather Data: {'latitude': 43.625, 'longitude': 79.375, 'generationtime_ms': 0.05793571472167969, 'utc_offset_seconds': 0, 'timezone': 'GMT', 'timezone_abbreviation': 'GMT', 'elevation': 647.0, 'current_units': {'time': 'iso8601', 'interval': 'seconds', 'temperature_2m': '°C', 'wind_speed_10m': 'km/h'}, 'current': {'time': '2025-02-19T18:15', 'interval': 900, 'temperature_2m': -2.8, 'wind_speed_10m': 10.9}, 'hourly_units': {'time': 'iso8601', 'temperature_2m': '°C', 'relative_humidity_2m': '%', 'wind_speed_10m': 'km/h'}, 'hourly': {'time': ['2025-02-19T00:00', '2025-02-19T01:00', '2025-02-19T02:00', '2025-02-19T03:00', '2025-02-19T04:00', '2025-02-19T05:00', '2025-02-19T06:00', '2025-02-19T07:00', '2025-02-19T08:00', '2025-02-19T09:00', '2025-02-19T10:00', '2025-02-19T11:00', '2025-02-19T12:00', '2025-02-19T13:00', '2025-02-19T14:00', '2025-02-19T15:00', '2025-02-19T16:00', '2025-02-19T17:00', '2025-02-19T18:00', '2025-02-19T19:00', '2025-02-19T20:00', '2025-02-19T21:00', '2025-02-19T22:00', '2025-02-19T23:00', '2025-02-20T00:00', '2025-02-20T01:00', '2025-02-20T02:00', '2025-02-20T03:00', '2025-02-20T04:00', '2025-02-20T05:00', '2025-02-20T06:00', '2025-02-20T07:00', '2025-02-20T08:00', '2025-02-20T09:00', '2025-02-20T10:00', '2025-02-20T11:00', '2025-02-20T12:00', '2025-02-20T13:00', '2025-02-20T14:00', '2025-02-20T15:00', '2025-02-20T16:00', '2025-02-20T17:00', '2025-02-20T18:00', '2025-02-20T19:00', '2025-02-20T20:00', '2025-02-20T21:00', '2025-02-20T22:00', '2025-02-20T23:00', '2025-02-21T00:00', '2025-02-21T01:00', '2025-02-21T02:00', '2025-02-21T03:00', '2025-02-21T04:00', '2025-02-21T05:00', '2025-02-21T06:00', '2025-02-21T07:00', '2025-02-21T08:00', '2025-02-21T09:00', '2025-02-21T10:00', '2025-02-21T11:00', '2025-02-21T12:00', '2025-02-21T13:00', '2025-02-21T14:00', '2025-02-21T15:00', '2025-02-21T16:00', '2025-02-21T17:00', '2025-02-21T18:00', '2025-02-21T19:00', '2025-02-21T20:00', '2025-02-21T21:00', '2025-02-21T22:00', '2025-02-21T23:00', '2025-02-22T00:00', '2025-02-22T01:00', '2025-02-22T02:00', '2025-02-22T03:00', '2025-02-22T04:00', '2025-02-22T05:00', '2025-02-22T06:00', '2025-02-22T07:00', '2025-02-22T08:00', '2025-02-22T09:00', '2025-02-22T10:00', '2025-02-22T11:00', '2025-02-22T12:00', '2025-02-22T13:00', '2025-02-22T14:00', '2025-02-22T15:00', '2025-02-22T16:00', '2025-02-22T17:00', '2025-02-22T18:00', '2025-02-22T19:00', '2025-02-22T20:00', '2025-02-22T21:00', '2025-02-22T22:00', '2025-02-22T23:00', '2025-02-23T00:00', '2025-02-23T01:00', '2025-02-23T02:00', '2025-02-23T03:00', '2025-02-23T04:00', '2025-02-23T05:00', '2025-02-23T06:00', '2025-02-23T07:00', '2025-02-23T08:00', '2025-02-23T09:00', '2025-02-23T10:00', '2025-02-23T11:00', '2025-02-23T12:00', '2025-02-23T13:00', '2025-02-23T14:00', '2025-02-23T15:00', '2025-02-23T16:00', '2025-02-23T17:00', '2025-02-23T18:00', '2025-02-23T19:00', '2025-02-23T20:00', '2025-02-23T21:00', '2025-02-23T22:00', '2025-02-23T23:00', '2025-02-24T00:00', '2025-02-24T01:00', '2025-02-24T02:00', '2025-02-24T03:00', '2025-02-24T04:00', '2025-02-24T05:00', '2025-02-24T06:00', '2025-02-24T07:00', '2025-02-24T08:00', '2025-02-24T09:00', '2025-02-24T10:00', '2025-02-24T11:00', '2025-02-24T12:00', '2025-02-24T13:00', '2025-02-24T14:00', '2025-02-24T15:00', '2025-02-24T16:00', '2025-02-24T17:00', '2025-02-24T18:00', '2025-02-24T19:00', '2025-02-24T20:00', '2025-02-24T21:00', '2025-02-24T22:00', '2025-02-24T23:00', '2025-02-25T00:00', '2025-02-25T01:00', '2025-02-25T02:00', '2025-02-25T03:00', '2025-02-25T04:00', '2025-02-25T05:00', '2025-02-25T06:00', '2025-02-25T07:00', '2025-02-25T08:00', '2025-02-25T09:00', '2025-02-25T10:00', '2025-02-25T11:00', '2025-02-25T12:00', '2025-02-25T13:00', '2025-02-25T14:00', '2025-02-25T15:00', '2025-02-25T16:00', '2025-02-25T17:00', '2025-02-25T18:00', '2025-02-25T19:00', '2025-02-25T20:00', '2025-02-25T21:00', '2025-02-25T22:00', '2025-02-25T23:00'], 'temperature_2m': [-7.8, -8.2, -8.4, -6.5, -2.5, 0.6, 3.6, 4.8, 5.8, 6.2, 6.1, 5.2, 3.3, 0.8, -0.0, -0.9, -1.7, -1.9, -2.5, -3.6, -4.3, -4.7, -5.0, -5.1, -4.7, -4.5, -4.4, -3.0, -1.0, 1.0, 2.2, 3.3, 3.9, 4.4, 4.5, 4.0, 2.5, 1.5, 1.0, -0.1, -0.9, -1.7, -2.6, -3.2, -3.8, -4.2, -4.6, -4.8, -5.2, -5.6, -5.8, -3.9, -0.2, 1.6, 2.9, 4.3, 5.3, 5.8, 5.8, 5.4, 4.1, 2.2, -0.6, -1.5, -2.2, -2.9, -3.4, -3.9, -4.2, -4.4, -4.6, -4.8, -5.0, -5.2, -5.4, -3.5, 0.8, 3.5, 5.3, 6.8, 7.8, 8.3, 8.5, 7.9, 5.0, 1.2, -0.8, -1.9, -2.6, -3.4, -4.0, -4.4, -4.6, -4.8, -5.0, -5.2, -5.2, -5.0, -4.6, -3.4, -0.6, 3.1, 6.0, 7.7, 8.7, 9.0, 8.3, 7.0, 5.2, 2.8, 0.0, -2.2, -3.3, -3.8, -4.1, -4.3, -4.2, -4.2, -4.3, -4.5, -4.3, -4.1, -3.6, -2.2, 0.9, 4.9, 8.1, 9.9, 11.0, 11.2, 10.2, 8.3, 6.1, 3.5, 0.6, -1.6, -2.3, -2.3, -2.2, -2.3, -2.3, -2.4, -3.0, -3.5, -3.2, -1.1, 1.8, 4.8, 7.5, 10.1, 12.2, 13.5, 14.2, 14.2, 13.4, 11.8, 9.8, 7.0, 3.7, 1.3, 0.5, 0.5, 0.5, 0.1, -0.3, -0.7, -1.2, -1.7], 'relative_humidity_2m': [93, 91, 91, 88, 85, 77, 72, 67, 62, 62, 62, 66, 76, 84, 84, 86, 85, 84, 85, 85, 83, 83, 82, 82, 82, 83, 82, 80, 79, 58, 56, 58, 59, 62, 61, 66, 80, 86, 87, 90, 90, 89, 88, 86, 84, 83, 83, 82, 82, 82, 81, 78, 76, 69, 71, 70, 66, 64, 66, 68, 78, 83, 91, 88, 89, 91, 92, 92, 91, 90, 89, 89, 89, 88, 87, 81, 77, 60, 53, 48, 43, 42, 44, 49, 66, 78, 82, 81, 81, 83, 83, 83, 83, 83, 83, 82, 81, 80, 79, 75, 66, 55, 46, 41, 38, 38, 44, 53, 62, 69, 76, 81, 83, 82, 81, 80, 79, 78, 77, 77, 75, 73, 71, 65, 53, 37, 25, 20, 20, 22, 28, 38, 47, 55, 63, 68, 70, 70, 70, 69, 68, 67, 68, 70, 68, 60, 48, 40, 38, 38, 39, 39, 38, 40, 44, 50, 57, 65, 74, 81, 84, 84, 84, 85, 87, 88, 88, 88], 'wind_speed_10m': [12.4, 12.5, 11.9, 11.4, 8.4, 1.3, 2.3, 2.7, 4.1, 3.2, 4.1, 6.9, 8.4, 9.5, 8.7, 9.2, 10.4, 10.5, 10.7, 11.7, 12.5, 12.5, 11.8, 11.4, 10.5, 9.7, 8.4, 6.6, 4.1, 1.8, 1.1, 3.4, 3.3, 2.8, 2.0, 2.5, 3.1, 1.4, 3.4, 6.6, 8.4, 8.9, 9.4, 9.7, 10.0, 10.3, 10.4, 10.4, 10.2, 9.9, 9.4, 8.7, 4.7, 3.6, 5.7, 7.7, 8.8, 8.8, 8.3, 6.8, 1.5, 6.5, 10.7, 11.6, 12.4, 12.4, 12.7, 12.7, 12.4, 11.9, 11.2, 11.2, 10.6, 11.1, 10.3, 9.8, 6.6, 0.8, 4.5, 5.9, 6.6, 5.4, 2.3, 2.6, 8.0, 11.5, 13.4, 13.6, 13.6, 13.6, 13.9, 13.7, 13.5, 13.0, 12.5, 12.0, 11.5, 11.7, 11.9, 10.4, 5.5, 2.6, 6.8, 8.9, 9.0, 7.5, 3.1, 4.1, 9.2, 11.7, 12.9, 13.6, 13.9, 13.5, 13.3, 12.8, 12.2, 11.4, 11.1, 10.6, 10.3, 10.8, 11.2, 10.0, 5.2, 2.9, 7.4, 9.3, 9.4, 7.6, 2.5, 5.8, 11.5, 13.8, 14.4, 14.7, 14.7, 14.2, 13.7, 13.2, 13.2, 12.9, 12.8, 13.0, 13.2, 13.3, 13.4, 14.3, 16.3, 19.3, 21.1, 22.2, 22.3, 21.3, 17.9, 13.1, 9.7, 9.3, 10.0, 10.7, 10.0, 8.8, 7.7, 7.5, 7.6, 8.1, 8.3, 8.0]}}\n"
          ]
        }
      ]
    },
    {
      "cell_type": "markdown",
      "source": [
        "# ===============================\n",
        "# 5: Homework Assignment\n",
        "# ===============================\n",
        "\n",
        "### Task 9: Simple Calculator"
      ],
      "metadata": {
        "id": "goYbGY8_PP-b"
      }
    },
    {
      "cell_type": "code",
      "source": [
        "\n",
        "def calculator(num1, num2, operation):\n",
        "    if operation == \"add\":\n",
        "        return num1 + num2\n",
        "    elif operation == \"subtract\":\n",
        "        return num1 - num2\n",
        "    elif operation == \"multiply\":\n",
        "        return num1 * num2\n",
        "    elif operation == \"divide\":\n",
        "        return num1 / num2\n",
        "    else:\n",
        "        return \"Invalid operation\"\n",
        "\n",
        "# User Input\n",
        "num1 = float(input(\"Enter first number: \"))\n",
        "num2 = float(input(\"Enter second number: \"))\n",
        "operation = input(\"Enter operation (add, subtract, multiply, divide): \")\n",
        "\n",
        "result = calculator(num1, num2, operation)\n",
        "print(\"Result:\", result)\n"
      ],
      "metadata": {
        "id": "MYCDvNE0OSlY"
      },
      "execution_count": null,
      "outputs": []
    },
    {
      "cell_type": "code",
      "source": [
        "# PyTest for Calculator (Run on Local Machine)\n",
        "\"\"\"\n",
        "# Save as test_calculator.py\n",
        "from main import calculator\n",
        "\n",
        "def test_calculator():\n",
        "    assert calculator(4, 2, \"add\") == 6\n",
        "    assert calculator(10, 5, \"divide\") == 2\n",
        "    assert calculator(3, 3, \"multiply\") == 9\n",
        "    assert calculator(10, 2, \"subtract\") == 8\n",
        "\n",
        "# Run in terminal:\n",
        "# pytest test_calculator.py -v\n",
        "\"\"\"\n"
      ],
      "metadata": {
        "id": "vcePRWWlOU72"
      },
      "execution_count": null,
      "outputs": []
    },
    {
      "cell_type": "markdown",
      "source": [
        "# Task 10: Week 1 Final Assignment - Smart Expense Tracker\n",
        "🎯 Goal: Build a Smart Expense Tracker that allows users to:\n",
        "\n",
        "*   Add expenses with details (date, category, amount).\n",
        "*   Display total spending.\n",
        "*  Identify if they are overspending based on a set budget.\n",
        "* Save expenses to a file.\n",
        "* Fetch and display the latest currency exchange rates using an API.\n",
        "* Write PyTest cases to validate key functions.\n",
        "\n",
        "\n",
        "\n",
        "---\n",
        "\n",
        "\n",
        "📂 Assignment Overview\n",
        "\n",
        "💡 You will use:\n",
        "\n",
        "* Variables & Data Types (to store expenses).\n",
        "* Lists & Dictionaries (to organize data).\n",
        "* If-Else & Loops (to process user input).\n",
        "* Functions (to modularize the code).\n",
        "* File Handling (to save and retrieve expenses).\n",
        "* APIs (requests) (to fetch currency exchange rates).\n",
        "* PyTest (to validate calculations)."
      ],
      "metadata": {
        "id": "SlY131CGPWgU"
      }
    },
    {
      "cell_type": "markdown",
      "source": [
        "Instructions:\n",
        "\n",
        "\n",
        "1.   Create a list of expenses where each expense is stored as a dictionary.\n",
        "2.   Ask the user for:\n",
        "\n",
        "\n",
        "*   Date of expense.\n",
        "*  Expense category (e.g., Food, Transport, Shopping).\n",
        "* Amount spent.\n",
        "\n",
        "3. Save the data and display total expenses."
      ],
      "metadata": {
        "id": "CXt9QevOQG_F"
      }
    },
    {
      "cell_type": "code",
      "source": [
        "# Expense Tracker - Collecting Expenses\n",
        "expenses = []\n",
        "\n",
        "while True:\n",
        "    date = input(\"Enter the date (YYYY-MM-DD) or type 'done' to stop: \")\n",
        "    if date.lower() == 'done':\n",
        "        break\n",
        "    category = input(\"Enter category (Food, Transport, Shopping, etc.): \")\n",
        "    amount = float(input(\"Enter amount spent: \"))\n",
        "\n",
        "    expense = {\"date\": date, \"category\": category, \"amount\": amount}\n",
        "    expenses.append(expense)\n",
        "\n",
        "# Display all expenses\n",
        "print(\"\\nYour Expenses:\")\n",
        "for expense in expenses:\n",
        "    print(expense)\n"
      ],
      "metadata": {
        "id": "G-JZ3u_gPULu"
      },
      "execution_count": null,
      "outputs": []
    },
    {
      "cell_type": "markdown",
      "source": [
        "Step 2: Set a Budget & Detect Overspending\n",
        "\n",
        "Instructions:\n",
        "\n",
        "* Ask the user for their monthly budget.\n",
        "* Compare the total expenses with the budget.\n",
        "* Print a warning if the user exceeds the budget."
      ],
      "metadata": {
        "id": "4flP9dShQkur"
      }
    },
    {
      "cell_type": "code",
      "source": [
        "# Calculate total spending\n",
        "total_spent = sum(expense[\"amount\"] for expense in expenses)\n",
        "print(f\"\\nTotal spent: ${total_spent:.2f}\")\n",
        "\n",
        "# Set and check budget\n",
        "budget = float(input(\"Enter your monthly budget: \"))\n",
        "if total_spent > budget:\n",
        "    print(\"⚠️ Warning: You have exceeded your budget!\")\n",
        "else:\n",
        "    print(\"✅ You are within your budget.\")\n"
      ],
      "metadata": {
        "id": "6BKnNijjQkRf"
      },
      "execution_count": null,
      "outputs": []
    },
    {
      "cell_type": "markdown",
      "source": [
        "Step 3: Save Expenses to a File\n",
        "\n",
        "Instructions:\n",
        "\n",
        "* Save all expenses to a CSV file (expenses.csv).\n",
        "* Allow the user to reload saved expenses when they restart the program."
      ],
      "metadata": {
        "id": "DFzlvdnvQln-"
      }
    },
    {
      "cell_type": "code",
      "source": [
        "import pandas as pd\n",
        "\n",
        "# Save expenses to a CSV file\n",
        "df = pd.DataFrame(expenses)\n",
        "df.to_csv(\"expenses.csv\", index=False)\n",
        "print(\"✅ Expenses saved to expenses.csv\")\n",
        "\n",
        "# Load existing expenses (if available)\n",
        "try:\n",
        "    saved_expenses = pd.read_csv(\"expenses.csv\")\n",
        "    print(\"\\n🔄 Loaded previous expenses:\")\n",
        "    print(saved_expenses)\n",
        "except FileNotFoundError:\n",
        "    print(\"No saved expenses found.\")\n"
      ],
      "metadata": {
        "id": "aVF2KFSpQmHD"
      },
      "execution_count": null,
      "outputs": []
    },
    {
      "cell_type": "markdown",
      "source": [
        "Step 4: Fetch Currency Exchange Rates (API)\n",
        "\n",
        "Instructions:\n",
        "\n",
        "* Fetch the latest exchange rates from an API.\n",
        "* Convert the total spending to EUR and GBP."
      ],
      "metadata": {
        "id": "4u3NiHbHZ9p5"
      }
    },
    {
      "cell_type": "code",
      "source": [
        "import requests\n",
        "\n",
        "# Fetch exchange rates from \"https://api.exchangerate-api.com/v4/latest/USD\"\n",
        "response = requests.get(\"https://api.exchangerate-api.com/v4/latest/USD\")\n",
        "data = response.json()\n",
        "\n",
        "# Convert spending to EUR and GBP\n",
        "usd_to_eur = data[\"rates\"][\"EUR\"]\n",
        "usd_to_gbp = data[\"rates\"][\"GBP\"]\n",
        "\n",
        "print(f\"\\nExchange Rates: 1 USD = {usd_to_eur:.2f} EUR, {usd_to_gbp:.2f} GBP\")\n",
        "print(f\"Total spent: {total_spent:.2f} USD = {total_spent * usd_to_eur:.2f} EUR = {total_spent * usd_to_gbp:.2f} GBP\")\n"
      ],
      "metadata": {
        "id": "mbYuxv8mQo5C"
      },
      "execution_count": null,
      "outputs": []
    },
    {
      "cell_type": "markdown",
      "source": [
        "Step 5: Write PyTest Cases\n",
        "\n",
        "Instructions:\n",
        "\n",
        "Write test cases for:\n",
        "* Budget Checking Function\n",
        "* Total Spending Calculation"
      ],
      "metadata": {
        "id": "YhSudf9kQorW"
      }
    },
    {
      "cell_type": "code",
      "source": [
        "# Save this as test_expense_tracker.py\n",
        "from main import calculate_budget_status, calculate_total_spent\n",
        "\n",
        "def test_calculate_total_spent():\n",
        "    expenses = [{\"amount\": 10}, {\"amount\": 20}, {\"amount\": 30}]\n",
        "    assert calculate_total_spent(expenses) == 60\n",
        "\n",
        "def test_calculate_budget_status():\n",
        "    assert calculate_budget_status(500, 400) == \"Within Budget\"\n",
        "    assert calculate_budget_status(500, 600) == \"Exceeded Budget\"\n",
        "\n",
        "# Run tests:\n",
        "# pytest test_expense_tracker.py -v\n"
      ],
      "metadata": {
        "id": "W7u0tTlmaJoz"
      },
      "execution_count": null,
      "outputs": []
    },
    {
      "cell_type": "markdown",
      "source": [
        "Submission & Evaluation\n",
        "\n",
        "✅ Save your final notebook as Week1_Assignment.ipynb.\n",
        "\n",
        "✅ Upload it to your Google Drive folder.\n",
        "\n",
        "✅ Submit the Colab link to the team chat for review.\n",
        "\n",
        "\n",
        "\n",
        "---\n",
        "\n",
        "\n",
        "📊 Evaluation Criteria:\n",
        "\n",
        "\n",
        "✅ Correct implementation of expense tracking & budget checking.\n",
        "\n",
        "✅ Data is properly saved & retrieved from CSV.\n",
        "\n",
        "✅ API call successfully fetches exchange rates.\n",
        "\n",
        "✅ At least two PyTest cases implemented correctly."
      ],
      "metadata": {
        "id": "sGiAWj9BaVDp"
      }
    },
    {
      "cell_type": "markdown",
      "source": [
        "### Bonus Challenge: Add a Pie Chart for Expense Categories!\n",
        "\n",
        "### If you finish early, add a pie chart to visualize spending by category using matplotlib."
      ],
      "metadata": {
        "id": "x8vCaAVMacPX"
      }
    },
    {
      "cell_type": "code",
      "source": [
        "import matplotlib.pyplot as plt\n",
        "\n",
        "# Group expenses by category\n",
        "category_totals = {}\n",
        "for expense in expenses:\n",
        "    category = expense[\"category\"]\n",
        "    category_totals[category] = category_totals.get(category, 0) + expense[\"amount\"]\n",
        "\n",
        "# Plot Pie Chart\n",
        "plt.pie(category_totals.values(), labels=category_totals.keys(), autopct=\"%1.1f%%\")\n",
        "plt.title(\"Spending by Category\")\n",
        "plt.show()\n"
      ],
      "metadata": {
        "id": "wciKUbGNalvZ"
      },
      "execution_count": null,
      "outputs": []
    }
  ]
}