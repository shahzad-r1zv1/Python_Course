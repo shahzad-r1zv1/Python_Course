{
  "nbformat": 4,
  "nbformat_minor": 0,
  "metadata": {
    "colab": {
      "provenance": [],
      "authorship_tag": "ABX9TyO3GokGboedDASu3YWAi7/g",
      "include_colab_link": true
    },
    "kernelspec": {
      "name": "python3",
      "display_name": "Python 3"
    },
    "language_info": {
      "name": "python"
    }
  },
  "cells": [
    {
      "cell_type": "markdown",
      "metadata": {
        "id": "view-in-github",
        "colab_type": "text"
      },
      "source": [
        "<a href=\"https://colab.research.google.com/github/shahzad-r1zv1/Python_Course/blob/main/Week_5_Advance_Topics_in_Chatbots.ipynb\" target=\"_parent\"><img src=\"https://colab.research.google.com/assets/colab-badge.svg\" alt=\"Open In Colab\"/></a>"
      ]
    },
    {
      "cell_type": "markdown",
      "source": [
        "\n",
        "# ====================================\n",
        "# Week 5: Advance Topics in Chatbots\n",
        "# ====================================\n",
        "\n"
      ],
      "metadata": {
        "id": "QMCgBWwMMaj3"
      }
    },
    {
      "cell_type": "markdown",
      "source": [
        "#Goal\n",
        "Build a chatbot that uses GPT-style models to assist software testers and QA engineers with:\n",
        "\n",
        "*   Test case generation\n",
        "*   Writing PyTest or Robot Framework code\n",
        "*   Explaining testing concepts\n",
        "*   Suggesting test data or edge cases\n",
        "*   Answering common QA interview questions\n",
        "*   All built in Google Colab, optionally with a Gradio UI.\n",
        "\n",
        "\n",
        "---\n",
        "\n",
        "\n",
        "#Tools & Libraries:\n",
        " - transformers library (Hugging Face)\n",
        " - Pre-trained model: gpt2 or flan-t5-base\n",
        " - Optionally: gradio for UI, datasets for finetuning (advanced)\n",
        "\n",
        "---\n",
        "\n",
        "\n",
        "#Lesson Breakdown\n",
        "## Chatbot? Let's make it more intellegent!\n",
        "**Key Learning Objective:** Use GenerativeLLM to build a more complex example.\n",
        "\n"
      ],
      "metadata": {
        "id": "1Go5hddMVxmY"
      }
    },
    {
      "cell_type": "code",
      "source": [
        "# Step 1: Install Dependencies\n",
        "!pip install transformers gradio"
      ],
      "metadata": {
        "id": "sUhz_PcJ6ENE",
        "collapsed": true
      },
      "execution_count": null,
      "outputs": []
    },
    {
      "cell_type": "markdown",
      "source": [
        "### Task 1:\n",
        "\n",
        "**Topics:**\n"
      ],
      "metadata": {
        "id": "N9OET8CA6PB4"
      }
    },
    {
      "cell_type": "code",
      "source": [
        "# Step 2: Import Libraries and Initialize Models\n",
        "from transformers import pipeline, set_seed\n",
        "from difflib import SequenceMatcher\n",
        "\n",
        "set_seed(42)  # for reproducibility\n",
        "\n",
        "# GPT-2 Model for text-generation\n",
        "gpt2_bot = pipeline(\"text-generation\", model=\"gpt2\")\n",
        "\n",
        "# FLAN-T5 Model for text-to-text-generation (instruction following)\n",
        "flan_t5_bot = pipeline(\"text2text-generation\", model=\"google/flan-t5-base\")"
      ],
      "metadata": {
        "id": "cL6q-TOCYlwP"
      },
      "execution_count": null,
      "outputs": []
    },
    {
      "cell_type": "markdown",
      "source": [
        "### Task 2:\n"
      ],
      "metadata": {
        "id": "kjemvmxvMqps"
      }
    },
    {
      "cell_type": "code",
      "source": [
        "# Step 3: Define a Similarity Function to Compare Two Strings\n",
        "def similarity(a, b):\n",
        "    return SequenceMatcher(None, a, b).ratio()\n",
        "\n",
        "# Step 4: Define the Ensemble Chatbot Function\n",
        "def generate_response(user_input):\n",
        "    # Prepare prompts for each model\n",
        "    prompt_gpt = f\"You are a helpful software QA assistant. Answer this: {user_input}\\n\\n\"\n",
        "    prompt_fl = f\"Help a QA tester: {user_input}\"\n",
        "\n",
        "    # Generate responses from both models\n",
        "    response1 = gpt2_bot(prompt_gpt, max_length=256, do_sample=True, temperature=0.7, top_p=0.9)[0][\"generated_text\"]\n",
        "    response1 = response1.replace(prompt_gpt, \"\").strip()\n",
        "\n",
        "    response2 = flan_t5_bot(prompt_fl, max_length=256)[0][\"generated_text\"].strip()\n",
        "\n",
        "    # Compare the two responses using a similarity score\n",
        "    sim = similarity(response1, response2)\n",
        "\n",
        "    if sim > 0.8:\n",
        "        # The responses are very similar—return one of them.\n",
        "        optimal_response = response1\n",
        "    else:\n",
        "        # The responses differ—combine them for a richer output.\n",
        "        optimal_response = f\"{response1}\\n\\nAdditionally:\\n{response2}\"\n",
        "\n",
        "    return optimal_response\n"
      ],
      "metadata": {
        "id": "XUItlIHAMZ89"
      },
      "execution_count": null,
      "outputs": []
    },
    {
      "cell_type": "markdown",
      "source": [
        "### Task 3:\n",
        "\n",
        "Topics:\n",
        "\n",
        "-"
      ],
      "metadata": {
        "id": "TqXsGxgbOy6c"
      }
    },
    {
      "cell_type": "code",
      "source": [
        "# Step 5: Test the Ensemble Response Function Interactively\n",
        "user_input = input(\"Enter your QA question: \")\n",
        "print(\"Bot:\", generate_response(user_input))\n",
        "\n",
        "\n"
      ],
      "metadata": {
        "id": "1Vu8bYfYMx73"
      },
      "execution_count": null,
      "outputs": []
    },
    {
      "cell_type": "markdown",
      "source": [
        "### Task 4:\n",
        "Topics:\n",
        "- **Chatbots?**"
      ],
      "metadata": {
        "id": "Hgpru4hHO6AE"
      }
    },
    {
      "cell_type": "code",
      "source": [
        "# Step 6: Launch a Gradio Interface for the Chatbot\n",
        "import gradio as gr\n",
        "\n",
        "gr.Interface(\n",
        "    fn=generate_response,\n",
        "    inputs=gr.Textbox(lines=2, placeholder=\"Ask a QA question, e.g. 'Write a PyTest test for login'\"),\n",
        "    outputs=\"text\",\n",
        "    title=\"QA Assistant Chatbot Ensemble\",\n",
        "    description=\"This chatbot uses a combination of GPT-2 and FLAN-T5 to generate optimal responses for software testers and QA engineers.\"\n",
        ").launch()\n"
      ],
      "metadata": {
        "id": "SMgTe773N9tO",
        "collapsed": true
      },
      "execution_count": null,
      "outputs": []
    },
    {
      "cell_type": "markdown",
      "source": [
        "# ===========\n",
        "# What's Next?\n",
        "# ===========\n",
        "\n",
        "1. Apply NLP & AI Concepts\n",
        "Implement text processing & sentiment analysis in your chatbot/project.\n",
        "Improve chatbot responses with custom datasets or external APIs.\n",
        "2. Define User Interactions\n",
        "How will users input queries? (Text-based, voice input, button clicks, etc.)\n",
        "How will the bot respond intelligently? (Rule-based, AI-powered, dynamic responses).\n",
        "3. Work on API Integrations\n",
        "If applicable, integrate weather APIs, news APIs, or a database.\n",
        "4. Implement Basic Test Cases\n",
        "Start writing PyTest cases to validate chatbot behavior.\n",
        "\n",
        "\n",
        "\n",
        "\n",
        "\n",
        "# ===========\n",
        "# Weekly Summary\n",
        "# ===========\n",
        "- Learned NLP Basics & AI Chatbots\n",
        "- Preprocessed Text Data (Tokenization, Lemmatization, Stopword Removal)\n",
        "- Built a Sentiment Analyzer\n",
        "- Implemented a Chatbot with ChatterBot\n",
        "- Integrated APIs to Enhance Functionality"
      ],
      "metadata": {
        "id": "2A8UPSUQO-TW"
      }
    }
  ]
}