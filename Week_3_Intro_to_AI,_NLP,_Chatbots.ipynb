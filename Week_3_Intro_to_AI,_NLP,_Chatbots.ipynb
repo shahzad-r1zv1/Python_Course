{
  "nbformat": 4,
  "nbformat_minor": 0,
  "metadata": {
    "colab": {
      "provenance": [],
      "authorship_tag": "ABX9TyNONgKLkso+5o0HeAIlRUUl",
      "include_colab_link": true
    },
    "kernelspec": {
      "name": "python3",
      "display_name": "Python 3"
    },
    "language_info": {
      "name": "python"
    }
  },
  "cells": [
    {
      "cell_type": "markdown",
      "metadata": {
        "id": "view-in-github",
        "colab_type": "text"
      },
      "source": [
        "<a href=\"https://colab.research.google.com/github/shahzad-r1zv1/Python_Course/blob/main/Week_3_Intro_to_AI%2C_NLP%2C_Chatbots.ipynb\" target=\"_parent\"><img src=\"https://colab.research.google.com/assets/colab-badge.svg\" alt=\"Open In Colab\"/></a>"
      ]
    },
    {
      "cell_type": "markdown",
      "source": [
        "\n",
        "# ====================================\n",
        "# Week 3: Introduction to AI, NLP & Chatbots\n",
        "# ====================================\n",
        "\n"
      ],
      "metadata": {
        "id": "QMCgBWwMMaj3"
      }
    },
    {
      "cell_type": "markdown",
      "source": [
        "#Goal\n",
        "Learn how to process text, analyze sentiment, and build a simple AI chatbot using Natural Language Processing (NLP) techniques in Python.\n",
        "\n",
        "\n",
        "---\n",
        "\n",
        "\n",
        "#Tools & Libraries:\n",
        " - NLTK (Natural Language Toolkit)\n",
        " - TextBlob (Sentiment Analysis)\n",
        " - ChatterBot (Chatbot Framework)\n",
        " - Flask (Optional: To deploy chatbot as a web app)\n",
        "\n",
        "\n",
        "---\n",
        "\n",
        "\n",
        "#Lesson Breakdown\n",
        "##What is AI? Introduction to NLP\n",
        "**Key Learning Objective:**Understanding AI and how NLP is used in chatbots and automation.\n",
        "\n",
        "**Task:**Run basic NLP operations in Python.\n",
        "## Text Processing with NLTK\n",
        "**Key Learning Objective:**Tokenization, Lemmatization, Removing Stopwords.\n",
        "**Task:**Clean and preprocess text data.\n",
        "## Sentiment Analysis with TextBlob\n",
        "**Key Learning Objective:**Analyze positive, neutral, and negative sentiment in text.\n",
        "**Task:**Build a sentiment analyzer.\n",
        "## Building a Chatbot with ChatterBot\n",
        "**Key Learning Objective:**Train a chatbot to recognize common responses.\n",
        "**Task:**Implement a basic chatbot in Python.\n",
        "## Refining Chatbot & Integrating APIs\n",
        "**Key Learning Objective:**Improve chatbot responses and add API-based data.\n",
        "**Task:**Connect chatbot with an external API (e.g., weather).\n",
        "\n"
      ],
      "metadata": {
        "id": "1Go5hddMVxmY"
      }
    },
    {
      "cell_type": "code",
      "source": [
        "# install the libraries we will use\n",
        "!pip install requests pandas matplotlib\n",
        "!pip install chatterbot chatterbot_corpus\n",
        "!pip install textblob\n",
        "!pip install nltk"
      ],
      "metadata": {
        "id": "sUhz_PcJ6ENE",
        "collapsed": true
      },
      "execution_count": null,
      "outputs": []
    },
    {
      "cell_type": "markdown",
      "source": [
        "### Task 1: What is AI? Introduction to NLP\n",
        "\n",
        "**Topics:**\n",
        "- **What is Artificial Intelligence (AI)?**\n",
        "  *   AI is the simulation of human intelligence in machines. It enables systems to learn, reason, and make decisions. Some real-world examples of AI:\n",
        "    *   Chatbots (Siri, Alexa, Google Assistant)\n",
        "    *   Spam Detection (Gmail classifying spam emails)\n",
        "    *   Language Translation (Google Translate)\n",
        "- **What is Natural Language Processing (NLP)?**\n",
        "  *   NLP is a branch of AI that enables machines to understand and process human language. Examples of NLP applications:\n",
        "     *   Speech Recognition (e.g., voice assistants)\n",
        "     *   Text Analysis (e.g., spam filtering, keyword extraction)\n",
        "     *   Chatbots (e.g., customer service bots)\n",
        "- **Why is NLP Important?**\n",
        "  *   Human language is complex, ambiguous, and context-dependent.\n",
        "  *   NLP helps computers understand sentence structure, meaning, and intent.\n",
        "  *   Used in search engines, sentiment analysis, and AI chatbots."
      ],
      "metadata": {
        "id": "N9OET8CA6PB4"
      }
    },
    {
      "cell_type": "code",
      "source": [
        "import nltk\n",
        "# Download the 'punkt_tab' resource\n",
        "nltk.download('punkt_tab')\n",
        "from nltk.tokenize import word_tokenize\n",
        "\n",
        "sample_text = \"Hello, I am learning Python. This is an AI-based course!\"\n",
        "\n",
        "tokens = word_tokenize(sample_text)\n",
        "tokens"
      ],
      "metadata": {
        "id": "cL6q-TOCYlwP"
      },
      "execution_count": null,
      "outputs": []
    },
    {
      "cell_type": "markdown",
      "source": [
        "### Task 2: Text Processing with NLTK\n",
        "\n",
        "Topics:\n",
        "- Tokenization: Splitting text into words.\n",
        "- Stopword Removal: Filtering out unimportant words (e.g., \"the\", \"is\").\n",
        "- Stemming & Lemmatization: Reducing words to their root form.\n",
        "\n",
        "\n",
        "**Text Preprocessing: Before a chatbot or NLP system can understand text, it needs to clean and standardize it.**\n",
        "\n",
        "  *   Key Text Processing Steps:\n",
        "    *   **Tokenization**: Splitting a sentence into words or phrases.\n",
        "    *   **Stopword Removal**: Removing words that don't add much meaning (e.g., \"is\", \"the\", \"and\").\n",
        "    *   **Lemmatization**: Converting words into their base/root form."
      ],
      "metadata": {
        "id": "kjemvmxvMqps"
      }
    },
    {
      "cell_type": "code",
      "source": [
        "#Preprocess Text Data\n",
        "\n",
        "\n",
        "from nltk.corpus import stopwords\n",
        "from nltk.tokenize import word_tokenize\n",
        "from nltk.stem import WordNetLemmatizer\n",
        "\n",
        "nltk.download('stopwords')\n",
        "nltk.download('wordnet')\n",
        "\n",
        "text = \"I am running late for the Python class.\"\n",
        "words = word_tokenize(text)\n",
        "\n",
        "# Remove stopwords\n",
        "filtered_words = [word for word in words if word.lower() not in stopwords.words('english')]\n",
        "\n",
        "# Lemmatization\n",
        "lemmatizer = WordNetLemmatizer()\n",
        "lemmatized_words = [lemmatizer.lemmatize(word) for word in filtered_words]\n",
        "\n",
        "print(\"Filtered Words:\", filtered_words)\n",
        "print(\"Lemmatized Words:\", lemmatized_words)\n",
        "\n",
        "# Notice lemmatization didn't change \"running\" to \"run\". Why? Because by default, lemmatizer.lemmatize() assumes nouns (pos='n'). To properly lemmatize verbs, you'll want to specify parts-of-speech (POS):\n",
        "lemmatized_words = [lemmatizer.lemmatize(word, pos='v') for word in filtered_words]\n",
        "print(\"(Again) Lemmatized Verbs:\", lemmatized_words)\n",
        "\n"
      ],
      "metadata": {
        "id": "XUItlIHAMZ89"
      },
      "execution_count": null,
      "outputs": []
    },
    {
      "cell_type": "markdown",
      "source": [
        "### Task 3: Sentiment Analysis with TextBlob\n",
        "\n",
        "Topics:\n",
        "\n",
        "- What is **Sentiment Analysis**?\n",
        "  * Sentiment analysis detects emotions in text.\n",
        "  * Helps AI understand if text is positive, neutral, or negative.\n",
        "  * Used in social media monitoring, customer feedback, and chatbot responses.\n",
        "\n",
        "\n",
        "- **Classifying** Positive, Negative, and Neutral Text\n",
        "  * Each text is given a polarity score:\n",
        "    * Positive: polarity > 0\n",
        "    * Neutral: polarity = 0\n",
        "    * Negative: polarity < 0\n",
        "\n",
        "- Using TextBlob for Sentiment Scoring"
      ],
      "metadata": {
        "id": "TqXsGxgbOy6c"
      }
    },
    {
      "cell_type": "code",
      "source": [
        "\n",
        "from textblob import TextBlob\n",
        "\n",
        "text1 = \"This course is amazing!! I love this course! It's fantastic.\"\n",
        "text2 = \"This is an ok tutorial.\"\n",
        "text3 = \"I hate bugs in my code.\"\n",
        "\n",
        "# Sentiment Scores\n",
        "print(\"Text 1 Sentiment:\", TextBlob(text1).sentiment.polarity)\n",
        "print(\"Text 2 Sentiment:\", TextBlob(text2).sentiment.polarity)\n",
        "print(\"Text 3 Sentiment:\", TextBlob(text3).sentiment.polarity)\n",
        "\n"
      ],
      "metadata": {
        "id": "1Vu8bYfYMx73"
      },
      "execution_count": null,
      "outputs": []
    },
    {
      "cell_type": "markdown",
      "source": [
        "### Task 4: Building a Chatbot with ChatterBot\n",
        "Topics:\n",
        "- **Chatbots?**\n",
        "  * A chatbot is an AI-powered program designed to simulate human-like conversations.\n",
        "- Types of Chatbots:\n",
        "  * Rule-Based Chatbots: Predefined responses based on keywords.\n",
        "  * AI-Powered Chatbots: Uses NLP and Machine Learning to improve responses.\n",
        "\n",
        "- **Why?**\n",
        "  * Open-source chatbot framework.\n",
        "  * Trains chatbots using predefined conversation datasets.\n",
        "  * Easily integrates into web applications.\n",
        "\n",
        "- Using ChatterBot to Train a Simple Chatbot\n",
        "- Improving Chatbot Responses"
      ],
      "metadata": {
        "id": "Hgpru4hHO6AE"
      }
    },
    {
      "cell_type": "code",
      "source": [
        "\n",
        "# Hands-on Task: Implement a Simple Chatbot\n",
        "\n",
        "#!pip install chatterbot chatterbot_corpus\n",
        "\n",
        "from chatterbot import ChatBot\n",
        "from chatterbot.trainers import ChatterBotCorpusTrainer\n",
        "\n",
        "chatbot = ChatBot(\"StudyBot\")\n",
        "\n",
        "trainer = ChatterBotCorpusTrainer(chatbot)\n",
        "trainer.train(\"chatterbot.corpus.english\")\n",
        "\n",
        "while True:\n",
        "    user_input = input(\"You: \")\n",
        "    response = chatbot.get_response(user_input)\n",
        "    print(\"Bot:\", response)\n"
      ],
      "metadata": {
        "id": "SMgTe773N9tO",
        "collapsed": true
      },
      "execution_count": null,
      "outputs": []
    },
    {
      "cell_type": "markdown",
      "source": [
        "### Task 5: Refining Chatbot & Integrating APIs\n",
        "\n",
        "Topics:\n",
        "- Improving Chatbot Responses\n",
        "- Connecting Chatbot with an API\n",
        "- Enhancing User Experience with More Features\n",
        "\n",
        "\n",
        "- **Why?**\n",
        "  * Chatbots become more powerful when they can fetch real-time data.\n",
        "  * Example: A chatbot fetching live weather updates for the user.\n",
        "\n",
        "- **How?**\n",
        "  * User asks: \"What’s the weather in Toronto?\"\n",
        "  * Chatbot detects keyword \"weather\" and extracts \"Toronto\".\n",
        "  * Chatbot calls weather API to fetch live weather data.\n",
        "  * Chatbot replies with real-time temperature."
      ],
      "metadata": {
        "id": "ePbsHqBhO8wF"
      }
    },
    {
      "cell_type": "code",
      "source": [
        "# ===============================\n",
        "# Step 1: Install Required Libraries\n",
        "# ===============================\n",
        "# !pip install chatterbot chatterbot_corpus requests\n",
        "\n",
        "# ===============================\n",
        "# Step 2: Import Required Libraries & Initialize Chatbot\n",
        "# ===============================\n",
        "from chatterbot import ChatBot\n",
        "from chatterbot.trainers import ChatterBotCorpusTrainer\n",
        "import requests\n",
        "from google.colab import userdata # for the API Key\n",
        "\n",
        "# Create chatbot instance\n",
        "chatbot = ChatBot(\"WeatherBot\")\n",
        "\n",
        "# Train chatbot with basic English conversation dataset\n",
        "trainer = ChatterBotCorpusTrainer(chatbot)\n",
        "trainer.train(\"chatterbot.corpus.english\")\n",
        "\n",
        "print(\"Chatbot is ready!\")\n",
        "\n",
        "# ===============================\n",
        "# Step 3: Define a Function to Fetch Live Weather Data\n",
        "# ===============================\n",
        "\n",
        "def get_weather(city):\n",
        "\n",
        "    api_key = userdata.get('weather_API') # Replace with a valid API key from weatherapi.com\n",
        "    url = f\"http://api.weatherapi.com/v1/current.json?key={api_key}&q={city}\"\n",
        "\n",
        "    try:\n",
        "        response = requests.get(url)\n",
        "        data = response.json()\n",
        "\n",
        "        if \"error\" in data:\n",
        "            return \"Sorry, I couldn't fetch the weather for that location.\"\n",
        "\n",
        "        temp_c = data[\"current\"][\"temp_c\"]\n",
        "        condition = data[\"current\"][\"condition\"][\"text\"]\n",
        "\n",
        "        return f\"The weather in {city} is {condition} with a temperature of {temp_c}°C.\"\n",
        "\n",
        "    except Exception as e:\n",
        "        return \"There was an issue retrieving weather data.\"\n",
        "\n",
        "print(\"Weather function is ready!\")\n",
        "\n",
        "# ===============================\n",
        "# Step 4: Improve Chatbot Logic to Recognize Weather Requests\n",
        "# ===============================\n",
        "\n",
        "def chatbot_response(user_input):\n",
        "    user_input = user_input.lower()\n",
        "\n",
        "    # Check if the user is asking about weather\n",
        "    if \"weather\" in user_input or \"temperature\" in user_input:\n",
        "        words = user_input.split()\n",
        "\n",
        "        if len(words) > 1:\n",
        "            city = words[-1]  # Assume the city name is the last word in the input\n",
        "            return get_weather(city)\n",
        "        else:\n",
        "            return \"Please specify a city name. Example: 'What is the weather in Toronto?'\"\n",
        "\n",
        "    else:\n",
        "        return chatbot.get_response(user_input)\n",
        "\n",
        "print(\"Chatbot is now API-enabled!\")\n",
        "\n",
        "\n",
        "# ===============================\n",
        "# Step 5: Run the Chatbot with API Integration\n",
        "# ===============================\n",
        "\n",
        "print(\"Chatbot is running... Type 'exit' to stop.\")\n",
        "\n",
        "while True:\n",
        "    user_input = input(\"You: \")\n",
        "\n",
        "    if user_input.lower() == \"exit\":\n",
        "        print(\"Bot: Goodbye!\")\n",
        "        break\n",
        "\n",
        "    response = chatbot_response(user_input)\n",
        "    print(\"Bot:\", response)\n",
        "\n",
        "\n",
        "# Examples:\n",
        "#  What is the weather in New York?\n",
        "#  Hello!\n",
        "#  Exit\n",
        "\n",
        "\n"
      ],
      "metadata": {
        "id": "VVPUb6MsOGPp",
        "collapsed": true
      },
      "execution_count": null,
      "outputs": []
    },
    {
      "cell_type": "markdown",
      "source": [
        "# ===========\n",
        "# What's Next?\n",
        "# ===========\n",
        "\n",
        "1. Apply NLP & AI Concepts\n",
        "Implement text processing & sentiment analysis in your chatbot/project.\n",
        "Improve chatbot responses with custom datasets or external APIs.\n",
        "2. Define User Interactions\n",
        "How will users input queries? (Text-based, voice input, button clicks, etc.)\n",
        "How will the bot respond intelligently? (Rule-based, AI-powered, dynamic responses).\n",
        "3. Work on API Integrations\n",
        "If applicable, integrate weather APIs, news APIs, or a database.\n",
        "4. Implement Basic Test Cases\n",
        "Start writing PyTest cases to validate chatbot behavior.\n",
        "\n",
        "\n",
        "\n",
        "\n",
        "\n",
        "# ===========\n",
        "# Weekly Summary\n",
        "# ===========\n",
        "- Learned NLP Basics & AI Chatbots\n",
        "- Preprocessed Text Data (Tokenization, Lemmatization, Stopword Removal)\n",
        "- Built a Sentiment Analyzer\n",
        "- Implemented a Chatbot with ChatterBot\n",
        "- Integrated APIs to Enhance Functionality"
      ],
      "metadata": {
        "id": "2A8UPSUQO-TW"
      }
    },
    {
      "cell_type": "markdown",
      "source": [
        "# ===========\n",
        "# Homework\n",
        "# ===========\n",
        "##Exercise 1: Tokenize and Count Words in a Sentence\n",
        "Concepts Used: Tokenization, String Manipulation\n",
        "\n",
        "Goal: Ask the user to enter a sentence and count the number of words.\n",
        "\n",
        "\n",
        "Task:\n",
        "\n",
        "* Ask the user to input a sentence.\n",
        "\n",
        "* Tokenize the sentence (split into words).\n",
        "\n",
        "* Count the number of words and print the result.\n",
        "\n",
        "\n",
        "Hint: Use .split() or nltk.word_tokenize()."
      ],
      "metadata": {
        "id": "cDDPVy6Rsv_u"
      }
    },
    {
      "cell_type": "code",
      "source": [
        "import nltk\n",
        "nltk.download('punkt')\n",
        "\n",
        "# Ask user for input\n",
        "sentence = input(\"Enter a sentence: \")\n",
        "\n",
        "# Tokenize the sentence\n",
        "words = nltk.word_tokenize(sentence)\n",
        "\n",
        "# Print the number of words\n",
        "print(\"Number of words in your sentence:\", len(words))\n"
      ],
      "metadata": {
        "id": "9LPEezgwsxGY"
      },
      "execution_count": null,
      "outputs": []
    },
    {
      "cell_type": "markdown",
      "source": [
        "##Exercise 2: Filter Out Stopwords from User Input\n",
        "Concepts Used: Stopword Removal, Text Preprocessing\n",
        "\n",
        "Goal: Remove common words (e.g., \"is\", \"the\", \"and\") from a sentence to extract\n",
        "important words.\n",
        "\n",
        "Useful For: Cleaning chatbot inputs before processing.\n",
        "\n",
        "Task:\n",
        "\n",
        "* Ask the user for a sentence.\n",
        "* Remove all stopwords from the input.\n",
        "* Print the filtered sentence.\n",
        "\n",
        "Hint: Use nltk.corpus.stopwords."
      ],
      "metadata": {
        "id": "YBu_jG5rs5H6"
      }
    },
    {
      "cell_type": "code",
      "source": [
        "from nltk.corpus import stopwords\n",
        "from nltk.tokenize import word_tokenize\n",
        "import nltk\n",
        "\n",
        "nltk.download('stopwords')\n",
        "\n",
        "# Get user input\n",
        "sentence = input(\"Enter a sentence: \")\n",
        "\n",
        "# Tokenize the sentence\n",
        "words = word_tokenize(sentence)\n",
        "\n",
        "# Remove stopwords\n",
        "filtered_words = [word for word in words if word.lower() not in stopwords.words('english')]\n",
        "\n",
        "# Print the cleaned sentence\n",
        "print(\"Filtered words:\", filtered_words)\n"
      ],
      "metadata": {
        "id": "MKb-dI-Ts8db"
      },
      "execution_count": null,
      "outputs": []
    },
    {
      "cell_type": "markdown",
      "source": [
        "##Exercise 3: Detect Sentiment of a User’s Input\n",
        "Concepts Used: Sentiment Analysis, NLP\n",
        "\n",
        "Goal: Ask the user for input and analyze whether their statement is positive, negative, or neutral.\n",
        "\n",
        "Useful For: Chatbots that react to user emotions.\n",
        "\n",
        "Task:\n",
        "\n",
        "* Ask the user to enter a sentence.\n",
        "* Use TextBlob to analyze sentiment.\n",
        "* Print whether the sentence is positive, neutral, or negative.\n",
        "\n",
        "Hint: Use .sentiment.polarity."
      ],
      "metadata": {
        "id": "-52ZlEqWs_Rj"
      }
    },
    {
      "cell_type": "code",
      "source": [
        "from textblob import TextBlob\n",
        "\n",
        "# Get user input\n",
        "sentence = input(\"Enter a sentence: \")\n",
        "\n",
        "# Analyze sentiment\n",
        "sentiment_score = TextBlob(sentence).sentiment.polarity\n",
        "\n",
        "# Determine sentiment category\n",
        "if sentiment_score > 0:\n",
        "    print(\"Positive sentiment 😊\")\n",
        "elif sentiment_score < 0:\n",
        "    print(\"Negative sentiment 😡\")\n",
        "else:\n",
        "    print(\"Neutral sentiment 😐\")\n"
      ],
      "metadata": {
        "id": "pVQjC3Ghs-9-"
      },
      "execution_count": null,
      "outputs": []
    },
    {
      "cell_type": "markdown",
      "source": [
        "# Exercise 4: Create a Simple Rule-Based Chatbot\n",
        "\n",
        "Concepts Used: If-Else Logic, Input Handling\n",
        "\n",
        "Goal: Create a very basic chatbot that responds to specific greetings.\n",
        "\n",
        "Task:\n",
        "\n",
        "* Ask the user for input.\n",
        "* Respond to \"hi\", \"hello\", \"how are you?\" with predefined responses.\n",
        "* Print a default response if the chatbot doesn't recognize the input.\n",
        "\n",
        "Hint: Use if-elif-else statements."
      ],
      "metadata": {
        "id": "XDeINg9KtF4l"
      }
    },
    {
      "cell_type": "code",
      "source": [
        "# Simple chatbot\n",
        "while True:\n",
        "    user_input = input(\"You: \").lower()\n",
        "\n",
        "    if user_input in [\"hi\", \"hello\"]:\n",
        "        print(\"Bot: Hello! How can I help you?\")\n",
        "    elif user_input == \"how are you?\":\n",
        "        print(\"Bot: I'm just a bot, but I'm doing great!\")\n",
        "    elif user_input == \"exit\":\n",
        "        print(\"Bot: Goodbye!\")\n",
        "        break\n",
        "    else:\n",
        "        print(\"Bot: Sorry, I don't understand.\")\n"
      ],
      "metadata": {
        "id": "Jz6YiusftFed"
      },
      "execution_count": null,
      "outputs": []
    },
    {
      "cell_type": "markdown",
      "source": [
        "# Advanced Exercise: AI-Powered Multi-Functional Chatbot\n",
        "Goal: Build a smart chatbot that can:\n",
        "\n",
        "* Answer general questions using ChatterBot\n",
        "* Very Much Optional (not for the faint of heart!): Deploy as a Web App: Use Flask to build a chatbot interface.\n",
        "\n",
        "\n",
        "\n",
        "\n",
        "Concepts Used:\n",
        "\n",
        "* NLP (Natural Language Processing): Tokenization, Sentiment Analysis\n",
        "* Machine Learning Chatbot: ChatterBot for AI-powered responses\n",
        "* API Integration: Calling weather & fact APIs\n",
        "* Python Logic & Conditional Handling\n",
        "\n",
        "Hints:\n",
        "https://flask.palletsprojects.com/en/stable/\n",
        "\n",
        "https://colab.research.google.com/github/pete88b/smart-on-fhir-client-py-demo/blob/main/_flask_hello_world_colab.ipynb\n",
        "\n",
        "https://colab.research.google.com/github/srivatsan88/YouTubeLI/blob/master/Running_Flask_in_Colab.ipynb\n"
      ],
      "metadata": {
        "id": "-NBFIDE-tQ5O"
      }
    },
    {
      "cell_type": "code",
      "source": [
        "\n",
        "from flask import Flask, render_template, request\n",
        "import nltk\n",
        "from nltk.tokenize import word_tokenize\n",
        "from nltk.corpus import stopwords\n",
        "from nltk.stem import WordNetLemmatizer\n",
        "from textblob import TextBlob\n",
        "from chatterbot import ChatBot\n",
        "from chatterbot.trainers import ChatterBotCorpusTrainer\n",
        "import requests\n",
        "from google.colab import userdata\n",
        "\n",
        "app = Flask(__name__)\n",
        "\n",
        "# ... (Your existing chatbot code from the previous response) ...\n",
        "\n",
        "@app.route(\"/\")\n",
        "def home():\n",
        "    return render_template(\"index.html\")\n",
        "\n",
        "@app.route(\"/get\")\n",
        "def get_bot_response():\n",
        "    userText = request.args.get('msg')\n",
        "    return chatbot_response(userText)\n",
        "\n",
        "#To run the app in Google Colab\n",
        "from flask_ngrok import run_with_ngrok\n",
        "run_with_ngrok(app)\n",
        "\n",
        "if __name__ == \"__main__\":\n",
        "    app.run()"
      ],
      "metadata": {
        "id": "1mhZ23NDyJVa"
      },
      "execution_count": null,
      "outputs": []
    }
  ]
}