{
  "nbformat": 4,
  "nbformat_minor": 0,
  "metadata": {
    "colab": {
      "provenance": [],
      "collapsed_sections": [
        "2A8UPSUQO-TW",
        "DIl1AgI7PBut",
        "1tRflia3PEUE",
        "goYbGY8_PP-b"
      ],
      "authorship_tag": "ABX9TyPEPh/1xtTHfoniCWm7hRgD",
      "include_colab_link": true
    },
    "kernelspec": {
      "name": "python3",
      "display_name": "Python 3"
    },
    "language_info": {
      "name": "python"
    }
  },
  "cells": [
    {
      "cell_type": "markdown",
      "metadata": {
        "id": "view-in-github",
        "colab_type": "text"
      },
      "source": [
        "<a href=\"https://colab.research.google.com/github/shahzad-r1zv1/Python_Course/blob/main/Week_3_Intro_to_AI%2C_NLP%2C_Chatbots.ipynb\" target=\"_parent\"><img src=\"https://colab.research.google.com/assets/colab-badge.svg\" alt=\"Open In Colab\"/></a>"
      ]
    },
    {
      "cell_type": "markdown",
      "source": [
        "\n",
        "# ====================================\n",
        "# Week 3: Introduction to AI, NLP & Chatbots\n",
        "# ====================================\n",
        "\n"
      ],
      "metadata": {
        "id": "QMCgBWwMMaj3"
      }
    },
    {
      "cell_type": "markdown",
      "source": [
        "#Goal\n",
        "Learn how to process text, analyze sentiment, and build a simple AI chatbot using Natural Language Processing (NLP) techniques in Python.\n",
        "\n",
        "\n",
        "---\n",
        "\n",
        "\n",
        "#Tools & Libraries:\n",
        " - NLTK (Natural Language Toolkit)\n",
        " - TextBlob (Sentiment Analysis)\n",
        " - ChatterBot (Chatbot Framework)\n",
        " - Flask (Optional: To deploy chatbot as a web app)\n",
        "\n",
        "\n",
        "---\n",
        "\n",
        "\n",
        "#Lesson Breakdown\n",
        "##What is AI? Introduction to NLP\n",
        "Key Learning Objective: Understanding AI and how NLP is used in chatbots and automation.\n",
        "Task: Run basic NLP operations in Python.\n",
        "## Text Processing with NLTK\n",
        "Key Learning Objective: Tokenization, Lemmatization, Removing Stopwords.\n",
        "Task: Clean and preprocess text data.\n",
        "## Sentiment Analysis with TextBlob\n",
        "Key Learning Objective: Analyze positive, neutral, and negative sentiment in text.\n",
        "Task: Build a sentiment analyzer.\n",
        "## Building a Chatbot with ChatterBot\n",
        "Key Learning Objective: Train a chatbot to recognize common responses.\n",
        "Task: Implement a basic chatbot in Python.\n",
        "## Refining Chatbot & Integrating APIs\n",
        "Key Learning Objective: Improve chatbot responses and add API-based data.\n",
        "Task: Connect chatbot with an external API (e.g., weather or news API).\n",
        "\n"
      ],
      "metadata": {
        "id": "1Go5hddMVxmY"
      }
    },
    {
      "cell_type": "code",
      "source": [
        "# install the libraries we will use\n",
        "!pip install requests pandas matplotlib\n",
        "!pip install chatterbot chatterbot_corpus\n",
        "!pip install textblob\n",
        "!pip install nltk"
      ],
      "metadata": {
        "id": "sUhz_PcJ6ENE",
        "collapsed": true
      },
      "execution_count": null,
      "outputs": []
    },
    {
      "cell_type": "markdown",
      "source": [
        "### Task 1: What is AI? Introduction to NLP\n",
        "\n",
        "Topics:\n",
        "- What is Artificial Intelligence (AI)?\n",
        "- What is Natural Language Processing (NLP)?\n",
        " - Examples: Google Assistant, ChatGPT, Siri, Spam Detection, Sentiment Analysis."
      ],
      "metadata": {
        "id": "N9OET8CA6PB4"
      }
    },
    {
      "cell_type": "code",
      "source": [
        "import nltk\n",
        "# Download the 'punkt_tab' resource\n",
        "nltk.download('punkt_tab')\n",
        "from nltk.tokenize import word_tokenize\n",
        "\n",
        "sample_text = \"Hello, I am learning Python. This is an AI-based course!\"\n",
        "\n",
        "tokens = word_tokenize(sample_text)\n",
        "tokens"
      ],
      "metadata": {
        "id": "cL6q-TOCYlwP"
      },
      "execution_count": null,
      "outputs": []
    },
    {
      "cell_type": "markdown",
      "source": [
        "### Task 2: Text Processing with NLTK\n",
        "\n",
        "Topics:\n",
        "- Tokenization: Splitting text into words.\n",
        "- Stopword Removal: Filtering out unimportant words (e.g., \"the\", \"is\").\n",
        "- Stemming & Lemmatization: Reducing words to their root form."
      ],
      "metadata": {
        "id": "kjemvmxvMqps"
      }
    },
    {
      "cell_type": "code",
      "source": [
        "#Preprocess Text Data\n",
        "\n",
        "\n",
        "from nltk.corpus import stopwords\n",
        "from nltk.tokenize import word_tokenize\n",
        "from nltk.stem import WordNetLemmatizer\n",
        "\n",
        "nltk.download('stopwords')\n",
        "nltk.download('wordnet')\n",
        "\n",
        "text = \"I am running late for the Python class.\"\n",
        "words = word_tokenize(text)\n",
        "\n",
        "# Remove stopwords\n",
        "filtered_words = [word for word in words if word.lower() not in stopwords.words('english')]\n",
        "\n",
        "# Lemmatization\n",
        "lemmatizer = WordNetLemmatizer()\n",
        "lemmatized_words = [lemmatizer.lemmatize(word) for word in filtered_words]\n",
        "\n",
        "print(\"Filtered Words:\", filtered_words)\n",
        "print(\"Lemmatized Words:\", lemmatized_words)\n",
        "\n",
        "# Notice lemmatization didn't change \"running\" to \"run\". Why? Because by default, lemmatizer.lemmatize() assumes nouns (pos='n'). To properly lemmatize verbs, you'll want to specify parts-of-speech (POS):\n",
        "lemmatized_words = [lemmatizer.lemmatize(word, pos='v') for word in filtered_words]\n",
        "print(\"(Again) Lemmatized Verbs:\", lemmatized_words)\n",
        "\n"
      ],
      "metadata": {
        "id": "XUItlIHAMZ89"
      },
      "execution_count": null,
      "outputs": []
    },
    {
      "cell_type": "markdown",
      "source": [
        "### Task 3: Sentiment Analysis with TextBlob\n",
        "\n",
        "Topics:\n",
        "\n",
        "- What is Sentiment Analysis?\n",
        "- Classifying Positive, Negative, and Neutral Text\n",
        "- Using TextBlob for Sentiment Scoring"
      ],
      "metadata": {
        "id": "TqXsGxgbOy6c"
      }
    },
    {
      "cell_type": "code",
      "source": [
        "\n",
        "from textblob import TextBlob\n",
        "\n",
        "text1 = \"This course is amazing!! I love this course! It's fantastic.\"\n",
        "text2 = \"This is an ok tutorial.\"\n",
        "text3 = \"I hate bugs in my code.\"\n",
        "\n",
        "# Sentiment Scores\n",
        "print(\"Text 1 Sentiment:\", TextBlob(text1).sentiment.polarity)\n",
        "print(\"Text 2 Sentiment:\", TextBlob(text2).sentiment.polarity)\n",
        "print(\"Text 3 Sentiment:\", TextBlob(text3).sentiment.polarity)\n",
        "\n"
      ],
      "metadata": {
        "id": "1Vu8bYfYMx73"
      },
      "execution_count": null,
      "outputs": []
    },
    {
      "cell_type": "markdown",
      "source": [
        "### Task 4: Building a Chatbot with ChatterBot\n",
        "Topics:\n",
        "- How Chatbots Work\n",
        "- Using ChatterBot to Train a Simple Chatbot\n",
        "- Improving Chatbot Responses"
      ],
      "metadata": {
        "id": "Hgpru4hHO6AE"
      }
    },
    {
      "cell_type": "code",
      "source": [
        "\n",
        "# Hands-on Task: Implement a Simple Chatbot\n",
        "\n",
        "#!pip install chatterbot chatterbot_corpus\n",
        "\n",
        "from chatterbot import ChatBot\n",
        "from chatterbot.trainers import ChatterBotCorpusTrainer\n",
        "\n",
        "chatbot = ChatBot(\"StudyBot\")\n",
        "\n",
        "trainer = ChatterBotCorpusTrainer(chatbot)\n",
        "trainer.train(\"chatterbot.corpus.english\")\n",
        "\n",
        "while True:\n",
        "    user_input = input(\"You: \")\n",
        "    response = chatbot.get_response(user_input)\n",
        "    print(\"Bot:\", response)\n"
      ],
      "metadata": {
        "id": "SMgTe773N9tO",
        "collapsed": true
      },
      "execution_count": null,
      "outputs": []
    },
    {
      "cell_type": "markdown",
      "source": [
        "### Task 5: Refining Chatbot & Integrating APIs\n",
        "\n",
        "Topics:\n",
        "- Improving Chatbot Responses\n",
        "- Connecting Chatbot with an API\n",
        "- Enhancing User Experience with More Features"
      ],
      "metadata": {
        "id": "ePbsHqBhO8wF"
      }
    },
    {
      "cell_type": "code",
      "source": [
        "# ===============================\n",
        "# Step 1: Install Required Libraries\n",
        "# ===============================\n",
        "# !pip install chatterbot chatterbot_corpus requests\n",
        "\n",
        "# ===============================\n",
        "# Step 2: Import Required Libraries & Initialize Chatbot\n",
        "# ===============================\n",
        "from chatterbot import ChatBot\n",
        "from chatterbot.trainers import ChatterBotCorpusTrainer\n",
        "import requests\n",
        "from google.colab import userdata # for the API Key\n",
        "\n",
        "# Create chatbot instance\n",
        "chatbot = ChatBot(\"WeatherBot\")\n",
        "\n",
        "# Train chatbot with basic English conversation dataset\n",
        "trainer = ChatterBotCorpusTrainer(chatbot)\n",
        "trainer.train(\"chatterbot.corpus.english\")\n",
        "\n",
        "print(\"Chatbot is ready!\")\n",
        "\n",
        "# ===============================\n",
        "# Step 3: Define a Function to Fetch Live Weather Data\n",
        "# ===============================\n",
        "\n",
        "def get_weather(city):\n",
        "\n",
        "    api_key = userdata.get('weather_API') # 🔹 Replace with a valid API key from weatherapi.com\n",
        "    url = f\"http://api.weatherapi.com/v1/current.json?key={api_key}&q={city}\"\n",
        "\n",
        "    try:\n",
        "        response = requests.get(url)\n",
        "        data = response.json()\n",
        "\n",
        "        if \"error\" in data:\n",
        "            return \"Sorry, I couldn't fetch the weather for that location.\"\n",
        "\n",
        "        temp_c = data[\"current\"][\"temp_c\"]\n",
        "        condition = data[\"current\"][\"condition\"][\"text\"]\n",
        "\n",
        "        return f\"The weather in {city} is {condition} with a temperature of {temp_c}°C.\"\n",
        "\n",
        "    except Exception as e:\n",
        "        return \"There was an issue retrieving weather data.\"\n",
        "\n",
        "print(\"Weather function is ready!\")\n",
        "\n",
        "# ===============================\n",
        "# Step 4: Improve Chatbot Logic to Recognize Weather Requests\n",
        "# ===============================\n",
        "\n",
        "def chatbot_response(user_input):\n",
        "    user_input = user_input.lower()\n",
        "\n",
        "    # Check if the user is asking about weather\n",
        "    if \"weather\" in user_input or \"temperature\" in user_input:\n",
        "        words = user_input.split()\n",
        "\n",
        "        if len(words) > 1:\n",
        "            city = words[-1]  # Assume the city name is the last word in the input\n",
        "            return get_weather(city)\n",
        "        else:\n",
        "            return \"Please specify a city name. Example: 'What is the weather in Toronto?'\"\n",
        "\n",
        "    else:\n",
        "        return chatbot.get_response(user_input)\n",
        "\n",
        "print(\"Chatbot is now API-enabled!\")\n",
        "\n",
        "\n",
        "# ===============================\n",
        "# Step 5: Run the Chatbot with API Integration\n",
        "# ===============================\n",
        "\n",
        "print(\"Chatbot is running... Type 'exit' to stop.\")\n",
        "\n",
        "while True:\n",
        "    user_input = input(\"You: \")\n",
        "\n",
        "    if user_input.lower() == \"exit\":\n",
        "        print(\"Bot: Goodbye!\")\n",
        "        break\n",
        "\n",
        "    response = chatbot_response(user_input)\n",
        "    print(\"Bot:\", response)\n",
        "\n",
        "\n",
        "# Examples:\n",
        "#  What is the weather in New York?\n",
        "#  Hello!\n",
        "#  Exit\n",
        "\n",
        "\n"
      ],
      "metadata": {
        "id": "VVPUb6MsOGPp",
        "collapsed": true
      },
      "execution_count": null,
      "outputs": []
    },
    {
      "cell_type": "markdown",
      "source": [
        "# ===============================\n",
        "# 3: Functions & Python Testing (PyTest)\n",
        "# ===============================\n",
        "\n",
        "### Task 6: Rectangle Area Function"
      ],
      "metadata": {
        "id": "2A8UPSUQO-TW"
      }
    },
    {
      "cell_type": "code",
      "source": [
        "\n",
        "def calculate_area(length, width):\n",
        "    return length * width\n",
        "\n",
        "# Test the function\n",
        "print(\"Area of rectangle:\", calculate_area(5, 10))\n"
      ],
      "metadata": {
        "id": "0D5PCsCAOJUE"
      },
      "execution_count": null,
      "outputs": []
    },
    {
      "cell_type": "markdown",
      "source": [
        "# PyTest cannot run inside Google Colab\n",
        "# Save the function above in a separate Python file (local machine)\n",
        "# Then, run the following test script in your local terminal:"
      ],
      "metadata": {
        "id": "DIl1AgI7PBut"
      }
    },
    {
      "cell_type": "code",
      "source": [
        "\n",
        "\n",
        "\"\"\"\n",
        "# Save as test_area.py in local environment\n",
        "from main import calculate_area\n",
        "\n",
        "def test_calculate_area():\n",
        "    assert calculate_area(5, 10) == 50\n",
        "    assert calculate_area(3, 7) == 21\n",
        "\n",
        "# Run this command in terminal:\n",
        "# pytest test_area.py -v\n",
        "\"\"\"\n"
      ],
      "metadata": {
        "id": "WMUsqMfDOLzF"
      },
      "execution_count": null,
      "outputs": []
    },
    {
      "cell_type": "markdown",
      "source": [
        "# ===============================\n",
        "# 4: Lists, Dictionaries, and API Calls\n",
        "# ===============================\n",
        "\n",
        "### Task 7: Dictionary of Favorite Movies"
      ],
      "metadata": {
        "id": "1tRflia3PEUE"
      }
    },
    {
      "cell_type": "code",
      "source": [
        "\n",
        "favorite_movies = {\n",
        "    \"Alice\": \"Inception\",\n",
        "    \"Bob\": \"Interstellar\",\n",
        "    \"Charlie\": \"The Matrix\"\n",
        "}\n",
        "print(\"Favorite Movies:\", favorite_movies)\n"
      ],
      "metadata": {
        "id": "y-5bb-YPOPEJ"
      },
      "execution_count": null,
      "outputs": []
    },
    {
      "cell_type": "markdown",
      "source": [
        "### Task 8: Fetch from API"
      ],
      "metadata": {
        "id": "v2i8pycaPK4L"
      }
    },
    {
      "cell_type": "code",
      "source": [
        "\n",
        "import requests\n",
        "\n",
        "# Fetching Weather Data (Example API)\n",
        "response = requests.get(\"https://api.open-meteo.com/v1/forecast?latitude=43.65&longitude=79.38&current=temperature_2m,wind_speed_10m&hourly=temperature_2m,relative_humidity_2m,wind_speed_10m\")\n",
        "data = response.json()\n",
        "print(\"Weather Data:\", data)\n"
      ],
      "metadata": {
        "id": "QSzwoD-ROQla"
      },
      "execution_count": null,
      "outputs": []
    },
    {
      "cell_type": "markdown",
      "source": [
        "# ===============================\n",
        "# 5: Homework Assignment\n",
        "# ===============================\n",
        "\n",
        "### Task 9: Simple Calculator"
      ],
      "metadata": {
        "id": "goYbGY8_PP-b"
      }
    },
    {
      "cell_type": "code",
      "source": [
        "\n",
        "def calculator(num1, num2, operation):\n",
        "    if operation == \"add\":\n",
        "        # code for add\n",
        "    elif operation == \"subtract\":\n",
        "        # code for subtract\n",
        "    elif operation == \"multiply\":\n",
        "        # code for multiply\n",
        "    elif operation == \"divide\":\n",
        "        # code for divide\n",
        "    else:\n",
        "        return \"Invalid operation\"\n",
        "\n",
        "# User Input\n",
        "num1 = float(input(\"Enter first number: \"))\n",
        "num2 = float(input(\"Enter second number: \"))\n",
        "operation = input(\"Enter operation (add, subtract, multiply, divide): \")\n",
        "\n",
        "result = calculator(num1, num2, operation)\n",
        "print(\"Result:\", result)\n"
      ],
      "metadata": {
        "id": "MYCDvNE0OSlY"
      },
      "execution_count": null,
      "outputs": []
    },
    {
      "cell_type": "code",
      "source": [
        "# PyTest for Calculator (Run on Local Machine)\n",
        "\"\"\"\n",
        "# Save as test_calculator.py\n",
        "from main import calculator\n",
        "\n",
        "def test_calculator():\n",
        "    assert calculator(4, 2, \"add\") == 6\n",
        "    assert calculator(10, 5, \"divide\") == 2\n",
        "    assert calculator(3, 3, \"multiply\") == 9\n",
        "    assert calculator(10, 2, \"subtract\") == 8\n",
        "\n",
        "# Run in terminal:\n",
        "# pytest test_calculator.py -v\n",
        "\"\"\"\n"
      ],
      "metadata": {
        "id": "vcePRWWlOU72"
      },
      "execution_count": null,
      "outputs": []
    },
    {
      "cell_type": "markdown",
      "source": [
        "# Task 10: Week 1 Final Assignment - Smart Expense Tracker\n",
        "Goal: Build a Smart Expense Tracker that allows users to:\n",
        "\n",
        "*   Add expenses with details (date, category, amount).\n",
        "*   Display total spending.\n",
        "*  Identify if they are overspending based on a set budget.\n",
        "* Save expenses to a file.\n",
        "* Fetch and display the latest currency exchange rates using an API.\n",
        "* Write PyTest cases to validate key functions.\n",
        "\n",
        "\n",
        "\n",
        "---\n",
        "\n",
        "\n",
        "Assignment Overview\n",
        "\n",
        "You will use:\n",
        "\n",
        "* Variables & Data Types (to store expenses).\n",
        "* Lists & Dictionaries (to organize data).\n",
        "* If-Else & Loops (to process user input).\n",
        "* Functions (to modularize the code).\n",
        "* File Handling (to save and retrieve expenses).\n",
        "* APIs (requests) (to fetch currency exchange rates).\n",
        "* PyTest (to validate calculations)."
      ],
      "metadata": {
        "id": "SlY131CGPWgU"
      }
    },
    {
      "cell_type": "markdown",
      "source": [
        "Instructions:\n",
        "\n",
        "\n",
        "1.   Create a list of expenses where each expense is stored as a dictionary.\n",
        "2.   Ask the user for:\n",
        "\n",
        "\n",
        "*   Date of expense.\n",
        "*  Expense category (e.g., Food, Transport, Shopping).\n",
        "* Amount spent.\n",
        "\n",
        "3. Save the data and display total expenses."
      ],
      "metadata": {
        "id": "CXt9QevOQG_F"
      }
    },
    {
      "cell_type": "code",
      "source": [
        "# Expense Tracker - Collecting Expenses\n",
        "expenses = []\n",
        "\n",
        "while True:\n",
        "    date = input(\"Enter the date (YYYY-MM-DD) or type 'done' to stop: \")\n",
        "    if date.lower() == 'done':\n",
        "        break\n",
        "    category = input(\"Enter category (Food, Transport, Shopping, etc.): \")\n",
        "    amount = float(input(\"Enter amount spent: \"))\n",
        "\n",
        "    expense = {\"date\": date, \"category\": category, \"amount\": amount}\n",
        "    expenses.append(expense)\n",
        "\n",
        "# Display all expenses\n",
        "print(\"\\nYour Expenses:\")\n",
        "for expense in expenses:\n",
        "    print(expense)\n"
      ],
      "metadata": {
        "id": "G-JZ3u_gPULu"
      },
      "execution_count": null,
      "outputs": []
    },
    {
      "cell_type": "markdown",
      "source": [
        "Step 2: Set a Budget & Detect Overspending\n",
        "\n",
        "Instructions:\n",
        "\n",
        "* Ask the user for their monthly budget.\n",
        "* Compare the total expenses with the budget.\n",
        "* Print a warning if the user exceeds the budget."
      ],
      "metadata": {
        "id": "4flP9dShQkur"
      }
    },
    {
      "cell_type": "code",
      "source": [
        "# Calculate total spending\n",
        "total_spent = sum(expense[\"amount\"] for expense in expenses)\n",
        "print(f\"\\nTotal spent: ${total_spent:.2f}\")\n",
        "\n",
        "# Ask user for budget and check if they exceeded it\n",
        "budget = float(input(\"Enter your monthly budget: \"))\n",
        "\n",
        "# Check if the user is over budget\n"
      ],
      "metadata": {
        "id": "6BKnNijjQkRf"
      },
      "execution_count": null,
      "outputs": []
    },
    {
      "cell_type": "markdown",
      "source": [
        "Step 3: Save Expenses to a File\n",
        "\n",
        "Instructions:\n",
        "\n",
        "* Save all expenses to a CSV file (expenses.csv).\n",
        "* Allow the user to reload saved expenses when they restart the program."
      ],
      "metadata": {
        "id": "DFzlvdnvQln-"
      }
    },
    {
      "cell_type": "code",
      "source": [
        "import pandas as pd\n",
        "\n",
        "import pandas as pd\n",
        "\n",
        "# Save expenses to a CSV file\n",
        "# Load existing expenses if available\n"
      ],
      "metadata": {
        "id": "aVF2KFSpQmHD"
      },
      "execution_count": null,
      "outputs": []
    },
    {
      "cell_type": "markdown",
      "source": [
        "Step 4: Fetch Currency Exchange Rates (API)\n",
        "\n",
        "Instructions:\n",
        "\n",
        "* Fetch the latest exchange rates from an API.\n",
        "* Convert the total spending to EUR and GBP."
      ],
      "metadata": {
        "id": "4u3NiHbHZ9p5"
      }
    },
    {
      "cell_type": "code",
      "source": [
        "import requests\n",
        "\n",
        "import requests\n",
        "\n",
        "# Fetch exchange rates from an API\n",
        "# Convert total spending to EUR and GBP\n",
        "\n",
        "# print exchange rates\n",
        "# print total spent\n"
      ],
      "metadata": {
        "id": "mbYuxv8mQo5C"
      },
      "execution_count": null,
      "outputs": []
    },
    {
      "cell_type": "markdown",
      "source": [
        "Step 5: Write PyTest Cases\n",
        "\n",
        "Instructions:\n",
        "\n",
        "Write test cases for:\n",
        "* Budget Checking Function\n",
        "* Total Spending Calculation"
      ],
      "metadata": {
        "id": "YhSudf9kQorW"
      }
    },
    {
      "cell_type": "code",
      "source": [
        "# Save this as test_expense_tracker.py\n",
        "from main import calculate_budget_status, calculate_total_spent\n",
        "\n",
        "def test_calculate_total_spent():\n",
        "    # Write your test case here\n",
        "\n",
        "def test_calculate_budget_status():\n",
        "    # Write your test case here\n",
        "\n",
        "# Run tests:\n",
        "# pytest test_expense_tracker.py -v\n"
      ],
      "metadata": {
        "id": "W7u0tTlmaJoz"
      },
      "execution_count": null,
      "outputs": []
    },
    {
      "cell_type": "markdown",
      "source": [
        "Submission & Evaluation\n",
        "\n",
        "✅ Save your final notebook as Week1_Assignment.ipynb.\n",
        "\n",
        "✅ Upload it to your Google Drive folder.\n",
        "\n",
        "✅ Submit the Colab link to the team chat for review.\n",
        "\n",
        "\n",
        "\n",
        "---\n",
        "\n",
        "\n",
        "📊 Evaluation Criteria:\n",
        "\n",
        "\n",
        "✅ Correct implementation of expense tracking & budget checking.\n",
        "\n",
        "✅ Data is properly saved & retrieved from CSV.\n",
        "\n",
        "✅ API call successfully fetches exchange rates.\n",
        "\n",
        "✅ At least two PyTest cases implemented correctly."
      ],
      "metadata": {
        "id": "sGiAWj9BaVDp"
      }
    },
    {
      "cell_type": "markdown",
      "source": [
        "### Bonus Challenge: Add a Pie Chart for Expense Categories!\n",
        "\n",
        "### If you finish early, add a pie chart to visualize spending by category using matplotlib."
      ],
      "metadata": {
        "id": "x8vCaAVMacPX"
      }
    },
    {
      "cell_type": "code",
      "source": [
        "import matplotlib.pyplot as plt\n",
        "\n",
        "# Group expenses by category\n",
        "\n",
        "# Plot Pie Chart\n",
        "\n",
        "# plt.show()\n"
      ],
      "metadata": {
        "id": "wciKUbGNalvZ"
      },
      "execution_count": null,
      "outputs": []
    }
  ]
}