{
  "nbformat": 4,
  "nbformat_minor": 0,
  "metadata": {
    "colab": {
      "provenance": [],
      "authorship_tag": "ABX9TyMRR/D1Bf3kTRaLTWy72HLB",
      "include_colab_link": true
    },
    "kernelspec": {
      "name": "python3",
      "display_name": "Python 3"
    },
    "language_info": {
      "name": "python"
    }
  },
  "cells": [
    {
      "cell_type": "markdown",
      "metadata": {
        "id": "view-in-github",
        "colab_type": "text"
      },
      "source": [
        "<a href=\"https://colab.research.google.com/github/shahzad-r1zv1/Python_Course/blob/main/Week_3_Intro_to_AI%2C_NLP%2C_Chatbots.ipynb\" target=\"_parent\"><img src=\"https://colab.research.google.com/assets/colab-badge.svg\" alt=\"Open In Colab\"/></a>"
      ]
    },
    {
      "cell_type": "markdown",
      "source": [
        "\n",
        "# ====================================\n",
        "# Week 3: Introduction to AI, NLP & Chatbots\n",
        "# ====================================\n",
        "\n"
      ],
      "metadata": {
        "id": "QMCgBWwMMaj3"
      }
    },
    {
      "cell_type": "markdown",
      "source": [
        "#Goal\n",
        "Learn how to process text, analyze sentiment, and build a simple AI chatbot using Natural Language Processing (NLP) techniques in Python.\n",
        "\n",
        "\n",
        "---\n",
        "\n",
        "\n",
        "#Tools & Libraries:\n",
        " - NLTK (Natural Language Toolkit)\n",
        " - TextBlob (Sentiment Analysis)\n",
        " - ChatterBot (Chatbot Framework)\n",
        " - Flask (Optional: To deploy chatbot as a web app)\n",
        "\n",
        "\n",
        "---\n",
        "\n",
        "\n",
        "#Lesson Breakdown\n",
        "##What is AI? Introduction to NLP\n",
        "Key Learning Objective: Understanding AI and how NLP is used in chatbots and automation.\n",
        "Task: Run basic NLP operations in Python.\n",
        "## Text Processing with NLTK\n",
        "Key Learning Objective: Tokenization, Lemmatization, Removing Stopwords.\n",
        "Task: Clean and preprocess text data.\n",
        "## Sentiment Analysis with TextBlob\n",
        "Key Learning Objective: Analyze positive, neutral, and negative sentiment in text.\n",
        "Task: Build a sentiment analyzer.\n",
        "## Building a Chatbot with ChatterBot\n",
        "Key Learning Objective: Train a chatbot to recognize common responses.\n",
        "Task: Implement a basic chatbot in Python.\n",
        "## Refining Chatbot & Integrating APIs\n",
        "Key Learning Objective: Improve chatbot responses and add API-based data.\n",
        "Task: Connect chatbot with an external API (e.g., weather or news API).\n",
        "\n"
      ],
      "metadata": {
        "id": "1Go5hddMVxmY"
      }
    },
    {
      "cell_type": "code",
      "source": [
        "# install the libraries we will use\n",
        "!pip install requests pandas matplotlib\n",
        "!pip install chatterbot chatterbot_corpus\n",
        "!pip install textblob\n",
        "!pip install nltk"
      ],
      "metadata": {
        "id": "sUhz_PcJ6ENE",
        "colab": {
          "base_uri": "https://localhost:8080/"
        },
        "collapsed": true,
        "outputId": "9fe6c0cb-ff6d-44f4-c8d9-5e1733fb9521"
      },
      "execution_count": 1,
      "outputs": [
        {
          "output_type": "stream",
          "name": "stdout",
          "text": [
            "Requirement already satisfied: requests in /usr/local/lib/python3.11/dist-packages (2.32.3)\n",
            "Requirement already satisfied: pandas in /usr/local/lib/python3.11/dist-packages (2.2.2)\n",
            "Requirement already satisfied: matplotlib in /usr/local/lib/python3.11/dist-packages (3.10.0)\n",
            "Requirement already satisfied: charset-normalizer<4,>=2 in /usr/local/lib/python3.11/dist-packages (from requests) (3.4.1)\n",
            "Requirement already satisfied: idna<4,>=2.5 in /usr/local/lib/python3.11/dist-packages (from requests) (3.10)\n",
            "Requirement already satisfied: urllib3<3,>=1.21.1 in /usr/local/lib/python3.11/dist-packages (from requests) (2.3.0)\n",
            "Requirement already satisfied: certifi>=2017.4.17 in /usr/local/lib/python3.11/dist-packages (from requests) (2025.1.31)\n",
            "Requirement already satisfied: numpy>=1.23.2 in /usr/local/lib/python3.11/dist-packages (from pandas) (1.26.4)\n",
            "Requirement already satisfied: python-dateutil>=2.8.2 in /usr/local/lib/python3.11/dist-packages (from pandas) (2.9.0.post0)\n",
            "Requirement already satisfied: pytz>=2020.1 in /usr/local/lib/python3.11/dist-packages (from pandas) (2025.1)\n",
            "Requirement already satisfied: tzdata>=2022.7 in /usr/local/lib/python3.11/dist-packages (from pandas) (2025.1)\n",
            "Requirement already satisfied: contourpy>=1.0.1 in /usr/local/lib/python3.11/dist-packages (from matplotlib) (1.3.1)\n",
            "Requirement already satisfied: cycler>=0.10 in /usr/local/lib/python3.11/dist-packages (from matplotlib) (0.12.1)\n",
            "Requirement already satisfied: fonttools>=4.22.0 in /usr/local/lib/python3.11/dist-packages (from matplotlib) (4.56.0)\n",
            "Requirement already satisfied: kiwisolver>=1.3.1 in /usr/local/lib/python3.11/dist-packages (from matplotlib) (1.4.8)\n",
            "Requirement already satisfied: packaging>=20.0 in /usr/local/lib/python3.11/dist-packages (from matplotlib) (24.2)\n",
            "Requirement already satisfied: pillow>=8 in /usr/local/lib/python3.11/dist-packages (from matplotlib) (11.1.0)\n",
            "Requirement already satisfied: pyparsing>=2.3.1 in /usr/local/lib/python3.11/dist-packages (from matplotlib) (3.2.1)\n",
            "Requirement already satisfied: six>=1.5 in /usr/local/lib/python3.11/dist-packages (from python-dateutil>=2.8.2->pandas) (1.17.0)\n",
            "Requirement already satisfied: chatterbot in /usr/local/lib/python3.11/dist-packages (1.2.3)\n",
            "Requirement already satisfied: chatterbot_corpus in /usr/local/lib/python3.11/dist-packages (1.2.2)\n",
            "Requirement already satisfied: mathparse<0.2,>=0.1 in /usr/local/lib/python3.11/dist-packages (from chatterbot) (0.1.2)\n",
            "Requirement already satisfied: python-dateutil<2.10,>=2.9 in /usr/local/lib/python3.11/dist-packages (from chatterbot) (2.9.0.post0)\n",
            "Requirement already satisfied: sqlalchemy<2.1,>=2.0 in /usr/local/lib/python3.11/dist-packages (from chatterbot) (2.0.38)\n",
            "Requirement already satisfied: spacy<3.9,>=3.8 in /usr/local/lib/python3.11/dist-packages (from chatterbot) (3.8.4)\n",
            "Requirement already satisfied: tqdm in /usr/local/lib/python3.11/dist-packages (from chatterbot) (4.67.1)\n",
            "Requirement already satisfied: six>=1.5 in /usr/local/lib/python3.11/dist-packages (from python-dateutil<2.10,>=2.9->chatterbot) (1.17.0)\n",
            "Requirement already satisfied: spacy-legacy<3.1.0,>=3.0.11 in /usr/local/lib/python3.11/dist-packages (from spacy<3.9,>=3.8->chatterbot) (3.0.12)\n",
            "Requirement already satisfied: spacy-loggers<2.0.0,>=1.0.0 in /usr/local/lib/python3.11/dist-packages (from spacy<3.9,>=3.8->chatterbot) (1.0.5)\n",
            "Requirement already satisfied: murmurhash<1.1.0,>=0.28.0 in /usr/local/lib/python3.11/dist-packages (from spacy<3.9,>=3.8->chatterbot) (1.0.12)\n",
            "Requirement already satisfied: cymem<2.1.0,>=2.0.2 in /usr/local/lib/python3.11/dist-packages (from spacy<3.9,>=3.8->chatterbot) (2.0.11)\n",
            "Requirement already satisfied: preshed<3.1.0,>=3.0.2 in /usr/local/lib/python3.11/dist-packages (from spacy<3.9,>=3.8->chatterbot) (3.0.9)\n",
            "Requirement already satisfied: thinc<8.4.0,>=8.3.4 in /usr/local/lib/python3.11/dist-packages (from spacy<3.9,>=3.8->chatterbot) (8.3.4)\n",
            "Requirement already satisfied: wasabi<1.2.0,>=0.9.1 in /usr/local/lib/python3.11/dist-packages (from spacy<3.9,>=3.8->chatterbot) (1.1.3)\n",
            "Requirement already satisfied: srsly<3.0.0,>=2.4.3 in /usr/local/lib/python3.11/dist-packages (from spacy<3.9,>=3.8->chatterbot) (2.5.1)\n",
            "Requirement already satisfied: catalogue<2.1.0,>=2.0.6 in /usr/local/lib/python3.11/dist-packages (from spacy<3.9,>=3.8->chatterbot) (2.0.10)\n",
            "Requirement already satisfied: weasel<0.5.0,>=0.1.0 in /usr/local/lib/python3.11/dist-packages (from spacy<3.9,>=3.8->chatterbot) (0.4.1)\n",
            "Requirement already satisfied: typer<1.0.0,>=0.3.0 in /usr/local/lib/python3.11/dist-packages (from spacy<3.9,>=3.8->chatterbot) (0.15.2)\n",
            "Requirement already satisfied: numpy>=1.19.0 in /usr/local/lib/python3.11/dist-packages (from spacy<3.9,>=3.8->chatterbot) (1.26.4)\n",
            "Requirement already satisfied: requests<3.0.0,>=2.13.0 in /usr/local/lib/python3.11/dist-packages (from spacy<3.9,>=3.8->chatterbot) (2.32.3)\n",
            "Requirement already satisfied: pydantic!=1.8,!=1.8.1,<3.0.0,>=1.7.4 in /usr/local/lib/python3.11/dist-packages (from spacy<3.9,>=3.8->chatterbot) (2.10.6)\n",
            "Requirement already satisfied: jinja2 in /usr/local/lib/python3.11/dist-packages (from spacy<3.9,>=3.8->chatterbot) (3.1.6)\n",
            "Requirement already satisfied: setuptools in /usr/local/lib/python3.11/dist-packages (from spacy<3.9,>=3.8->chatterbot) (75.1.0)\n",
            "Requirement already satisfied: packaging>=20.0 in /usr/local/lib/python3.11/dist-packages (from spacy<3.9,>=3.8->chatterbot) (24.2)\n",
            "Requirement already satisfied: langcodes<4.0.0,>=3.2.0 in /usr/local/lib/python3.11/dist-packages (from spacy<3.9,>=3.8->chatterbot) (3.5.0)\n",
            "Requirement already satisfied: greenlet!=0.4.17 in /usr/local/lib/python3.11/dist-packages (from sqlalchemy<2.1,>=2.0->chatterbot) (3.1.1)\n",
            "Requirement already satisfied: typing-extensions>=4.6.0 in /usr/local/lib/python3.11/dist-packages (from sqlalchemy<2.1,>=2.0->chatterbot) (4.12.2)\n",
            "Requirement already satisfied: language-data>=1.2 in /usr/local/lib/python3.11/dist-packages (from langcodes<4.0.0,>=3.2.0->spacy<3.9,>=3.8->chatterbot) (1.3.0)\n",
            "Requirement already satisfied: annotated-types>=0.6.0 in /usr/local/lib/python3.11/dist-packages (from pydantic!=1.8,!=1.8.1,<3.0.0,>=1.7.4->spacy<3.9,>=3.8->chatterbot) (0.7.0)\n",
            "Requirement already satisfied: pydantic-core==2.27.2 in /usr/local/lib/python3.11/dist-packages (from pydantic!=1.8,!=1.8.1,<3.0.0,>=1.7.4->spacy<3.9,>=3.8->chatterbot) (2.27.2)\n",
            "Requirement already satisfied: charset-normalizer<4,>=2 in /usr/local/lib/python3.11/dist-packages (from requests<3.0.0,>=2.13.0->spacy<3.9,>=3.8->chatterbot) (3.4.1)\n",
            "Requirement already satisfied: idna<4,>=2.5 in /usr/local/lib/python3.11/dist-packages (from requests<3.0.0,>=2.13.0->spacy<3.9,>=3.8->chatterbot) (3.10)\n",
            "Requirement already satisfied: urllib3<3,>=1.21.1 in /usr/local/lib/python3.11/dist-packages (from requests<3.0.0,>=2.13.0->spacy<3.9,>=3.8->chatterbot) (2.3.0)\n",
            "Requirement already satisfied: certifi>=2017.4.17 in /usr/local/lib/python3.11/dist-packages (from requests<3.0.0,>=2.13.0->spacy<3.9,>=3.8->chatterbot) (2025.1.31)\n",
            "Requirement already satisfied: blis<1.3.0,>=1.2.0 in /usr/local/lib/python3.11/dist-packages (from thinc<8.4.0,>=8.3.4->spacy<3.9,>=3.8->chatterbot) (1.2.0)\n",
            "Requirement already satisfied: confection<1.0.0,>=0.0.1 in /usr/local/lib/python3.11/dist-packages (from thinc<8.4.0,>=8.3.4->spacy<3.9,>=3.8->chatterbot) (0.1.5)\n",
            "Requirement already satisfied: click>=8.0.0 in /usr/local/lib/python3.11/dist-packages (from typer<1.0.0,>=0.3.0->spacy<3.9,>=3.8->chatterbot) (8.1.8)\n",
            "Requirement already satisfied: shellingham>=1.3.0 in /usr/local/lib/python3.11/dist-packages (from typer<1.0.0,>=0.3.0->spacy<3.9,>=3.8->chatterbot) (1.5.4)\n",
            "Requirement already satisfied: rich>=10.11.0 in /usr/local/lib/python3.11/dist-packages (from typer<1.0.0,>=0.3.0->spacy<3.9,>=3.8->chatterbot) (13.9.4)\n",
            "Requirement already satisfied: cloudpathlib<1.0.0,>=0.7.0 in /usr/local/lib/python3.11/dist-packages (from weasel<0.5.0,>=0.1.0->spacy<3.9,>=3.8->chatterbot) (0.21.0)\n",
            "Requirement already satisfied: smart-open<8.0.0,>=5.2.1 in /usr/local/lib/python3.11/dist-packages (from weasel<0.5.0,>=0.1.0->spacy<3.9,>=3.8->chatterbot) (7.1.0)\n",
            "Requirement already satisfied: MarkupSafe>=2.0 in /usr/local/lib/python3.11/dist-packages (from jinja2->spacy<3.9,>=3.8->chatterbot) (3.0.2)\n",
            "Requirement already satisfied: marisa-trie>=1.1.0 in /usr/local/lib/python3.11/dist-packages (from language-data>=1.2->langcodes<4.0.0,>=3.2.0->spacy<3.9,>=3.8->chatterbot) (1.2.1)\n",
            "Requirement already satisfied: markdown-it-py>=2.2.0 in /usr/local/lib/python3.11/dist-packages (from rich>=10.11.0->typer<1.0.0,>=0.3.0->spacy<3.9,>=3.8->chatterbot) (3.0.0)\n",
            "Requirement already satisfied: pygments<3.0.0,>=2.13.0 in /usr/local/lib/python3.11/dist-packages (from rich>=10.11.0->typer<1.0.0,>=0.3.0->spacy<3.9,>=3.8->chatterbot) (2.18.0)\n",
            "Requirement already satisfied: wrapt in /usr/local/lib/python3.11/dist-packages (from smart-open<8.0.0,>=5.2.1->weasel<0.5.0,>=0.1.0->spacy<3.9,>=3.8->chatterbot) (1.17.2)\n",
            "Requirement already satisfied: mdurl~=0.1 in /usr/local/lib/python3.11/dist-packages (from markdown-it-py>=2.2.0->rich>=10.11.0->typer<1.0.0,>=0.3.0->spacy<3.9,>=3.8->chatterbot) (0.1.2)\n",
            "Requirement already satisfied: textblob in /usr/local/lib/python3.11/dist-packages (0.19.0)\n",
            "Requirement already satisfied: nltk>=3.9 in /usr/local/lib/python3.11/dist-packages (from textblob) (3.9.1)\n",
            "Requirement already satisfied: click in /usr/local/lib/python3.11/dist-packages (from nltk>=3.9->textblob) (8.1.8)\n",
            "Requirement already satisfied: joblib in /usr/local/lib/python3.11/dist-packages (from nltk>=3.9->textblob) (1.4.2)\n",
            "Requirement already satisfied: regex>=2021.8.3 in /usr/local/lib/python3.11/dist-packages (from nltk>=3.9->textblob) (2024.11.6)\n",
            "Requirement already satisfied: tqdm in /usr/local/lib/python3.11/dist-packages (from nltk>=3.9->textblob) (4.67.1)\n",
            "Requirement already satisfied: nltk in /usr/local/lib/python3.11/dist-packages (3.9.1)\n",
            "Requirement already satisfied: click in /usr/local/lib/python3.11/dist-packages (from nltk) (8.1.8)\n",
            "Requirement already satisfied: joblib in /usr/local/lib/python3.11/dist-packages (from nltk) (1.4.2)\n",
            "Requirement already satisfied: regex>=2021.8.3 in /usr/local/lib/python3.11/dist-packages (from nltk) (2024.11.6)\n",
            "Requirement already satisfied: tqdm in /usr/local/lib/python3.11/dist-packages (from nltk) (4.67.1)\n"
          ]
        }
      ]
    },
    {
      "cell_type": "markdown",
      "source": [
        "### Task 1: What is AI? Introduction to NLP\n",
        "\n",
        "Topics:\n",
        "- What is Artificial Intelligence (AI)?\n",
        "- What is Natural Language Processing (NLP)?\n",
        " - Examples: Google Assistant, ChatGPT, Siri, Spam Detection, Sentiment Analysis."
      ],
      "metadata": {
        "id": "N9OET8CA6PB4"
      }
    },
    {
      "cell_type": "code",
      "source": [
        "import nltk\n",
        "# Download the 'punkt_tab' resource\n",
        "nltk.download('punkt_tab')\n",
        "from nltk.tokenize import word_tokenize\n",
        "\n",
        "sample_text = \"Hello, I am learning Python. This is an AI-based course!\"\n",
        "\n",
        "tokens = word_tokenize(sample_text)\n",
        "tokens"
      ],
      "metadata": {
        "id": "cL6q-TOCYlwP"
      },
      "execution_count": null,
      "outputs": []
    },
    {
      "cell_type": "markdown",
      "source": [
        "### Task 2: Text Processing with NLTK\n",
        "\n",
        "Topics:\n",
        "- Tokenization: Splitting text into words.\n",
        "- Stopword Removal: Filtering out unimportant words (e.g., \"the\", \"is\").\n",
        "- Stemming & Lemmatization: Reducing words to their root form."
      ],
      "metadata": {
        "id": "kjemvmxvMqps"
      }
    },
    {
      "cell_type": "code",
      "source": [
        "#Preprocess Text Data\n",
        "\n",
        "\n",
        "from nltk.corpus import stopwords\n",
        "from nltk.tokenize import word_tokenize\n",
        "from nltk.stem import WordNetLemmatizer\n",
        "\n",
        "nltk.download('stopwords')\n",
        "nltk.download('wordnet')\n",
        "\n",
        "text = \"I am running late for the Python class.\"\n",
        "words = word_tokenize(text)\n",
        "\n",
        "# Remove stopwords\n",
        "filtered_words = [word for word in words if word.lower() not in stopwords.words('english')]\n",
        "\n",
        "# Lemmatization\n",
        "lemmatizer = WordNetLemmatizer()\n",
        "lemmatized_words = [lemmatizer.lemmatize(word) for word in filtered_words]\n",
        "\n",
        "print(\"Filtered Words:\", filtered_words)\n",
        "print(\"Lemmatized Words:\", lemmatized_words)\n",
        "\n",
        "# Notice lemmatization didn't change \"running\" to \"run\". Why? Because by default, lemmatizer.lemmatize() assumes nouns (pos='n'). To properly lemmatize verbs, you'll want to specify parts-of-speech (POS):\n",
        "lemmatized_words = [lemmatizer.lemmatize(word, pos='v') for word in filtered_words]\n",
        "print(\"(Again) Lemmatized Verbs:\", lemmatized_words)\n",
        "\n"
      ],
      "metadata": {
        "id": "XUItlIHAMZ89",
        "colab": {
          "base_uri": "https://localhost:8080/"
        },
        "outputId": "24150411-cbaf-4c95-deed-be59d5983e3b"
      },
      "execution_count": 7,
      "outputs": [
        {
          "output_type": "stream",
          "name": "stdout",
          "text": [
            "Filtered Words: ['running', 'late', 'Python', 'class', '.']\n",
            "Lemmatized Words: ['running', 'late', 'Python', 'class', '.']\n",
            "(Again) Lemmatized Verbs: ['run', 'late', 'Python', 'class', '.']\n"
          ]
        },
        {
          "output_type": "stream",
          "name": "stderr",
          "text": [
            "[nltk_data] Downloading package stopwords to /root/nltk_data...\n",
            "[nltk_data]   Package stopwords is already up-to-date!\n",
            "[nltk_data] Downloading package wordnet to /root/nltk_data...\n",
            "[nltk_data]   Package wordnet is already up-to-date!\n"
          ]
        }
      ]
    },
    {
      "cell_type": "markdown",
      "source": [
        "### Task 3: Sentiment Analysis with TextBlob\n",
        "\n",
        "Topics:\n",
        "\n",
        "- What is Sentiment Analysis?\n",
        "- Classifying Positive, Negative, and Neutral Text\n",
        "- Using TextBlob for Sentiment Scoring"
      ],
      "metadata": {
        "id": "TqXsGxgbOy6c"
      }
    },
    {
      "cell_type": "code",
      "source": [
        "\n",
        "from textblob import TextBlob\n",
        "\n",
        "text1 = \"This course is amazing!! I love this course! It's fantastic.\"\n",
        "text2 = \"This is an ok tutorial.\"\n",
        "text3 = \"I hate bugs in my code.\"\n",
        "\n",
        "# Sentiment Scores\n",
        "print(\"Text 1 Sentiment:\", TextBlob(text1).sentiment.polarity)\n",
        "print(\"Text 2 Sentiment:\", TextBlob(text2).sentiment.polarity)\n",
        "print(\"Text 3 Sentiment:\", TextBlob(text3).sentiment.polarity)\n",
        "\n"
      ],
      "metadata": {
        "id": "1Vu8bYfYMx73",
        "colab": {
          "base_uri": "https://localhost:8080/"
        },
        "outputId": "418d8ac9-c3be-4cc2-fdd5-2dff3f5a1f5e"
      },
      "execution_count": 12,
      "outputs": [
        {
          "output_type": "stream",
          "name": "stdout",
          "text": [
            "Text 1 Sentiment: 0.6541666666666667\n",
            "Text 2 Sentiment: 0.5\n",
            "Text 3 Sentiment: -0.8\n"
          ]
        }
      ]
    },
    {
      "cell_type": "markdown",
      "source": [
        "### Task 4: Building a Chatbot with ChatterBot\n",
        "Topics:\n",
        "- How Chatbots Work\n",
        "- Using ChatterBot to Train a Simple Chatbot\n",
        "- Improving Chatbot Responses"
      ],
      "metadata": {
        "id": "Hgpru4hHO6AE"
      }
    },
    {
      "cell_type": "code",
      "source": [
        "\n",
        "# Hands-on Task: Implement a Simple Chatbot\n",
        "\n",
        "#!pip install chatterbot chatterbot_corpus\n",
        "\n",
        "from chatterbot import ChatBot\n",
        "from chatterbot.trainers import ChatterBotCorpusTrainer\n",
        "\n",
        "chatbot = ChatBot(\"StudyBot\")\n",
        "\n",
        "trainer = ChatterBotCorpusTrainer(chatbot)\n",
        "trainer.train(\"chatterbot.corpus.english\")\n",
        "\n",
        "while True:\n",
        "    user_input = input(\"You: \")\n",
        "    response = chatbot.get_response(user_input)\n",
        "    print(\"Bot:\", response)\n"
      ],
      "metadata": {
        "id": "SMgTe773N9tO",
        "colab": {
          "base_uri": "https://localhost:8080/",
          "height": 671
        },
        "collapsed": true,
        "outputId": "87985cd5-898c-4f2a-881a-6bc5d27cfd28"
      },
      "execution_count": 2,
      "outputs": [
        {
          "output_type": "stream",
          "name": "stderr",
          "text": [
            "/usr/local/lib/python3.11/dist-packages/spacy/util.py:910: UserWarning: [W095] Model 'en_core_web_sm' (3.7.1) was trained with spaCy v3.7.2 and may not be 100% compatible with the current version (3.8.4). If you see errors or degraded performance, download a newer compatible model or retrain your custom model with the current spaCy version. For more details and available updates, run: python -m spacy validate\n",
            "  warnings.warn(warn_msg)\n",
            "ChatterBot Corpus Trainer: 19it [00:03,  5.52it/s]\n"
          ]
        },
        {
          "output_type": "stream",
          "name": "stdout",
          "text": [
            "You: Hi!\n",
            "Bot: How are you doing?\n",
            "You: I'm good...can you please help me with a python class I am taking?\n",
            "Bot: I use Python quite a bit myself.\n",
            "You: Great! This is a confusing course, can you please tell me what is Token and how I can use it?\n",
            "Bot: I like seeing movies.\n",
            "You: What?! I am asking you a quesiton!\n",
            "Bot: I heard somebody say it.\n",
            "You: That has nothing to do with this!!!\n",
            "Bot: Have I erred?\n",
            "You: YES\n",
            "Bot: Can you feel?\n",
            "You: AAGGH\n",
            "Bot: william gibson\n"
          ]
        },
        {
          "output_type": "error",
          "ename": "KeyboardInterrupt",
          "evalue": "Interrupted by user",
          "traceback": [
            "\u001b[0;31m---------------------------------------------------------------------------\u001b[0m",
            "\u001b[0;31mKeyboardInterrupt\u001b[0m                         Traceback (most recent call last)",
            "\u001b[0;32m<ipython-input-2-966643b380a8>\u001b[0m in \u001b[0;36m<cell line: 0>\u001b[0;34m()\u001b[0m\n\u001b[1;32m     12\u001b[0m \u001b[0;34m\u001b[0m\u001b[0m\n\u001b[1;32m     13\u001b[0m \u001b[0;32mwhile\u001b[0m \u001b[0;32mTrue\u001b[0m\u001b[0;34m:\u001b[0m\u001b[0;34m\u001b[0m\u001b[0;34m\u001b[0m\u001b[0m\n\u001b[0;32m---> 14\u001b[0;31m     \u001b[0muser_input\u001b[0m \u001b[0;34m=\u001b[0m \u001b[0minput\u001b[0m\u001b[0;34m(\u001b[0m\u001b[0;34m\"You: \"\u001b[0m\u001b[0;34m)\u001b[0m\u001b[0;34m\u001b[0m\u001b[0;34m\u001b[0m\u001b[0m\n\u001b[0m\u001b[1;32m     15\u001b[0m     \u001b[0mresponse\u001b[0m \u001b[0;34m=\u001b[0m \u001b[0mchatbot\u001b[0m\u001b[0;34m.\u001b[0m\u001b[0mget_response\u001b[0m\u001b[0;34m(\u001b[0m\u001b[0muser_input\u001b[0m\u001b[0;34m)\u001b[0m\u001b[0;34m\u001b[0m\u001b[0;34m\u001b[0m\u001b[0m\n\u001b[1;32m     16\u001b[0m     \u001b[0mprint\u001b[0m\u001b[0;34m(\u001b[0m\u001b[0;34m\"Bot:\"\u001b[0m\u001b[0;34m,\u001b[0m \u001b[0mresponse\u001b[0m\u001b[0;34m)\u001b[0m\u001b[0;34m\u001b[0m\u001b[0;34m\u001b[0m\u001b[0m\n",
            "\u001b[0;32m/usr/local/lib/python3.11/dist-packages/ipykernel/kernelbase.py\u001b[0m in \u001b[0;36mraw_input\u001b[0;34m(self, prompt)\u001b[0m\n\u001b[1;32m   1175\u001b[0m                 \u001b[0;34m\"raw_input was called, but this frontend does not support input requests.\"\u001b[0m\u001b[0;34m\u001b[0m\u001b[0;34m\u001b[0m\u001b[0m\n\u001b[1;32m   1176\u001b[0m             )\n\u001b[0;32m-> 1177\u001b[0;31m         return self._input_request(\n\u001b[0m\u001b[1;32m   1178\u001b[0m             \u001b[0mstr\u001b[0m\u001b[0;34m(\u001b[0m\u001b[0mprompt\u001b[0m\u001b[0;34m)\u001b[0m\u001b[0;34m,\u001b[0m\u001b[0;34m\u001b[0m\u001b[0;34m\u001b[0m\u001b[0m\n\u001b[1;32m   1179\u001b[0m             \u001b[0mself\u001b[0m\u001b[0;34m.\u001b[0m\u001b[0m_parent_ident\u001b[0m\u001b[0;34m[\u001b[0m\u001b[0;34m\"shell\"\u001b[0m\u001b[0;34m]\u001b[0m\u001b[0;34m,\u001b[0m\u001b[0;34m\u001b[0m\u001b[0;34m\u001b[0m\u001b[0m\n",
            "\u001b[0;32m/usr/local/lib/python3.11/dist-packages/ipykernel/kernelbase.py\u001b[0m in \u001b[0;36m_input_request\u001b[0;34m(self, prompt, ident, parent, password)\u001b[0m\n\u001b[1;32m   1217\u001b[0m             \u001b[0;32mexcept\u001b[0m \u001b[0mKeyboardInterrupt\u001b[0m\u001b[0;34m:\u001b[0m\u001b[0;34m\u001b[0m\u001b[0;34m\u001b[0m\u001b[0m\n\u001b[1;32m   1218\u001b[0m                 \u001b[0;31m# re-raise KeyboardInterrupt, to truncate traceback\u001b[0m\u001b[0;34m\u001b[0m\u001b[0;34m\u001b[0m\u001b[0m\n\u001b[0;32m-> 1219\u001b[0;31m                 \u001b[0;32mraise\u001b[0m \u001b[0mKeyboardInterrupt\u001b[0m\u001b[0;34m(\u001b[0m\u001b[0;34m\"Interrupted by user\"\u001b[0m\u001b[0;34m)\u001b[0m \u001b[0;32mfrom\u001b[0m \u001b[0;32mNone\u001b[0m\u001b[0;34m\u001b[0m\u001b[0;34m\u001b[0m\u001b[0m\n\u001b[0m\u001b[1;32m   1220\u001b[0m             \u001b[0;32mexcept\u001b[0m \u001b[0mException\u001b[0m\u001b[0;34m:\u001b[0m\u001b[0;34m\u001b[0m\u001b[0;34m\u001b[0m\u001b[0m\n\u001b[1;32m   1221\u001b[0m                 \u001b[0mself\u001b[0m\u001b[0;34m.\u001b[0m\u001b[0mlog\u001b[0m\u001b[0;34m.\u001b[0m\u001b[0mwarning\u001b[0m\u001b[0;34m(\u001b[0m\u001b[0;34m\"Invalid Message:\"\u001b[0m\u001b[0;34m,\u001b[0m \u001b[0mexc_info\u001b[0m\u001b[0;34m=\u001b[0m\u001b[0;32mTrue\u001b[0m\u001b[0;34m)\u001b[0m\u001b[0;34m\u001b[0m\u001b[0;34m\u001b[0m\u001b[0m\n",
            "\u001b[0;31mKeyboardInterrupt\u001b[0m: Interrupted by user"
          ]
        }
      ]
    },
    {
      "cell_type": "markdown",
      "source": [
        "### Task 5: Refining Chatbot & Integrating APIs\n",
        "\n",
        "Topics:\n",
        "- Improving Chatbot Responses\n",
        "- Connecting Chatbot with an API\n",
        "- Enhancing User Experience with More Features"
      ],
      "metadata": {
        "id": "ePbsHqBhO8wF"
      }
    },
    {
      "cell_type": "code",
      "source": [
        "# ===============================\n",
        "# Step 1: Install Required Libraries\n",
        "# ===============================\n",
        "# !pip install chatterbot chatterbot_corpus requests\n",
        "\n",
        "# ===============================\n",
        "# Step 2: Import Required Libraries & Initialize Chatbot\n",
        "# ===============================\n",
        "from chatterbot import ChatBot\n",
        "from chatterbot.trainers import ChatterBotCorpusTrainer\n",
        "import requests\n",
        "from google.colab import userdata # for the API Key\n",
        "\n",
        "# Create chatbot instance\n",
        "chatbot = ChatBot(\"WeatherBot\")\n",
        "\n",
        "# Train chatbot with basic English conversation dataset\n",
        "trainer = ChatterBotCorpusTrainer(chatbot)\n",
        "trainer.train(\"chatterbot.corpus.english\")\n",
        "\n",
        "print(\"Chatbot is ready!\")\n",
        "\n",
        "# ===============================\n",
        "# Step 3: Define a Function to Fetch Live Weather Data\n",
        "# ===============================\n",
        "\n",
        "def get_weather(city):\n",
        "\n",
        "    api_key = userdata.get('weather_API') # 🔹 Replace with a valid API key from weatherapi.com\n",
        "    url = f\"http://api.weatherapi.com/v1/current.json?key={api_key}&q={city}\"\n",
        "\n",
        "    try:\n",
        "        response = requests.get(url)\n",
        "        data = response.json()\n",
        "\n",
        "        if \"error\" in data:\n",
        "            return \"Sorry, I couldn't fetch the weather for that location.\"\n",
        "\n",
        "        temp_c = data[\"current\"][\"temp_c\"]\n",
        "        condition = data[\"current\"][\"condition\"][\"text\"]\n",
        "\n",
        "        return f\"The weather in {city} is {condition} with a temperature of {temp_c}°C.\"\n",
        "\n",
        "    except Exception as e:\n",
        "        return \"There was an issue retrieving weather data.\"\n",
        "\n",
        "print(\"Weather function is ready!\")\n",
        "\n",
        "# ===============================\n",
        "# Step 4: Improve Chatbot Logic to Recognize Weather Requests\n",
        "# ===============================\n",
        "\n",
        "def chatbot_response(user_input):\n",
        "    user_input = user_input.lower()\n",
        "\n",
        "    # Check if the user is asking about weather\n",
        "    if \"weather\" in user_input or \"temperature\" in user_input:\n",
        "        words = user_input.split()\n",
        "\n",
        "        if len(words) > 1:\n",
        "            city = words[-1]  # Assume the city name is the last word in the input\n",
        "            return get_weather(city)\n",
        "        else:\n",
        "            return \"Please specify a city name. Example: 'What is the weather in Toronto?'\"\n",
        "\n",
        "    else:\n",
        "        return chatbot.get_response(user_input)\n",
        "\n",
        "print(\"Chatbot is now API-enabled!\")\n",
        "\n",
        "\n",
        "# ===============================\n",
        "# Step 5: Run the Chatbot with API Integration\n",
        "# ===============================\n",
        "\n",
        "print(\"Chatbot is running... Type 'exit' to stop.\")\n",
        "\n",
        "while True:\n",
        "    user_input = input(\"You: \")\n",
        "\n",
        "    if user_input.lower() == \"exit\":\n",
        "        print(\"Bot: Goodbye!\")\n",
        "        break\n",
        "\n",
        "    response = chatbot_response(user_input)\n",
        "    print(\"Bot:\", response)\n",
        "\n",
        "\n",
        "\n",
        "\n"
      ],
      "metadata": {
        "id": "VVPUb6MsOGPp",
        "colab": {
          "base_uri": "https://localhost:8080/"
        },
        "outputId": "b27b9efd-85ed-4f06-82c3-0d27fb7bb757"
      },
      "execution_count": 3,
      "outputs": [
        {
          "output_type": "stream",
          "name": "stderr",
          "text": [
            "/usr/local/lib/python3.11/dist-packages/spacy/util.py:910: UserWarning: [W095] Model 'en_core_web_sm' (3.7.1) was trained with spaCy v3.7.2 and may not be 100% compatible with the current version (3.8.4). If you see errors or degraded performance, download a newer compatible model or retrain your custom model with the current spaCy version. For more details and available updates, run: python -m spacy validate\n",
            "  warnings.warn(warn_msg)\n",
            "ChatterBot Corpus Trainer: 19it [00:03,  5.88it/s]\n"
          ]
        },
        {
          "output_type": "stream",
          "name": "stdout",
          "text": [
            "Chatbot is ready!\n",
            "Weather function is ready!\n",
            "Chatbot is now API-enabled!\n",
            "Chatbot is running... Type 'exit' to stop.\n",
            "You: Hi\n",
            "Bot: How are you doing?\n",
            "You: what is the weather in Toronto\n",
            "Bot: The weather in toronto is Partly cloudy with a temperature of -1.7°C.\n",
            "You: thanks!\n",
            "Bot: what is economics\n",
            "You: exit\n",
            "Bot: Goodbye!\n"
          ]
        }
      ]
    },
    {
      "cell_type": "markdown",
      "source": [
        "# ===============================\n",
        "# 3: Functions & Python Testing (PyTest)\n",
        "# ===============================\n",
        "\n",
        "### Task 6: Rectangle Area Function"
      ],
      "metadata": {
        "id": "2A8UPSUQO-TW"
      }
    },
    {
      "cell_type": "code",
      "source": [
        "\n",
        "def calculate_area(length, width):\n",
        "    return length * width\n",
        "\n",
        "# Test the function\n",
        "print(\"Area of rectangle:\", calculate_area(5, 10))\n"
      ],
      "metadata": {
        "id": "0D5PCsCAOJUE"
      },
      "execution_count": null,
      "outputs": []
    },
    {
      "cell_type": "markdown",
      "source": [
        "# PyTest cannot run inside Google Colab\n",
        "# Save the function above in a separate Python file (local machine)\n",
        "# Then, run the following test script in your local terminal:"
      ],
      "metadata": {
        "id": "DIl1AgI7PBut"
      }
    },
    {
      "cell_type": "code",
      "source": [
        "\n",
        "\n",
        "\"\"\"\n",
        "# Save as test_area.py in local environment\n",
        "from main import calculate_area\n",
        "\n",
        "def test_calculate_area():\n",
        "    assert calculate_area(5, 10) == 50\n",
        "    assert calculate_area(3, 7) == 21\n",
        "\n",
        "# Run this command in terminal:\n",
        "# pytest test_area.py -v\n",
        "\"\"\"\n"
      ],
      "metadata": {
        "id": "WMUsqMfDOLzF"
      },
      "execution_count": null,
      "outputs": []
    },
    {
      "cell_type": "markdown",
      "source": [
        "# ===============================\n",
        "# 4: Lists, Dictionaries, and API Calls\n",
        "# ===============================\n",
        "\n",
        "### Task 7: Dictionary of Favorite Movies"
      ],
      "metadata": {
        "id": "1tRflia3PEUE"
      }
    },
    {
      "cell_type": "code",
      "source": [
        "\n",
        "favorite_movies = {\n",
        "    \"Alice\": \"Inception\",\n",
        "    \"Bob\": \"Interstellar\",\n",
        "    \"Charlie\": \"The Matrix\"\n",
        "}\n",
        "print(\"Favorite Movies:\", favorite_movies)\n"
      ],
      "metadata": {
        "id": "y-5bb-YPOPEJ"
      },
      "execution_count": null,
      "outputs": []
    },
    {
      "cell_type": "markdown",
      "source": [
        "### Task 8: Fetch from API"
      ],
      "metadata": {
        "id": "v2i8pycaPK4L"
      }
    },
    {
      "cell_type": "code",
      "source": [
        "\n",
        "import requests\n",
        "\n",
        "# Fetching Weather Data (Example API)\n",
        "response = requests.get(\"https://api.open-meteo.com/v1/forecast?latitude=43.65&longitude=79.38&current=temperature_2m,wind_speed_10m&hourly=temperature_2m,relative_humidity_2m,wind_speed_10m\")\n",
        "data = response.json()\n",
        "print(\"Weather Data:\", data)\n"
      ],
      "metadata": {
        "id": "QSzwoD-ROQla"
      },
      "execution_count": null,
      "outputs": []
    },
    {
      "cell_type": "markdown",
      "source": [
        "# ===============================\n",
        "# 5: Homework Assignment\n",
        "# ===============================\n",
        "\n",
        "### Task 9: Simple Calculator"
      ],
      "metadata": {
        "id": "goYbGY8_PP-b"
      }
    },
    {
      "cell_type": "code",
      "source": [
        "\n",
        "def calculator(num1, num2, operation):\n",
        "    if operation == \"add\":\n",
        "        # code for add\n",
        "    elif operation == \"subtract\":\n",
        "        # code for subtract\n",
        "    elif operation == \"multiply\":\n",
        "        # code for multiply\n",
        "    elif operation == \"divide\":\n",
        "        # code for divide\n",
        "    else:\n",
        "        return \"Invalid operation\"\n",
        "\n",
        "# User Input\n",
        "num1 = float(input(\"Enter first number: \"))\n",
        "num2 = float(input(\"Enter second number: \"))\n",
        "operation = input(\"Enter operation (add, subtract, multiply, divide): \")\n",
        "\n",
        "result = calculator(num1, num2, operation)\n",
        "print(\"Result:\", result)\n"
      ],
      "metadata": {
        "id": "MYCDvNE0OSlY"
      },
      "execution_count": null,
      "outputs": []
    },
    {
      "cell_type": "code",
      "source": [
        "# PyTest for Calculator (Run on Local Machine)\n",
        "\"\"\"\n",
        "# Save as test_calculator.py\n",
        "from main import calculator\n",
        "\n",
        "def test_calculator():\n",
        "    assert calculator(4, 2, \"add\") == 6\n",
        "    assert calculator(10, 5, \"divide\") == 2\n",
        "    assert calculator(3, 3, \"multiply\") == 9\n",
        "    assert calculator(10, 2, \"subtract\") == 8\n",
        "\n",
        "# Run in terminal:\n",
        "# pytest test_calculator.py -v\n",
        "\"\"\"\n"
      ],
      "metadata": {
        "id": "vcePRWWlOU72"
      },
      "execution_count": null,
      "outputs": []
    },
    {
      "cell_type": "markdown",
      "source": [
        "# Task 10: Week 1 Final Assignment - Smart Expense Tracker\n",
        "Goal: Build a Smart Expense Tracker that allows users to:\n",
        "\n",
        "*   Add expenses with details (date, category, amount).\n",
        "*   Display total spending.\n",
        "*  Identify if they are overspending based on a set budget.\n",
        "* Save expenses to a file.\n",
        "* Fetch and display the latest currency exchange rates using an API.\n",
        "* Write PyTest cases to validate key functions.\n",
        "\n",
        "\n",
        "\n",
        "---\n",
        "\n",
        "\n",
        "Assignment Overview\n",
        "\n",
        "You will use:\n",
        "\n",
        "* Variables & Data Types (to store expenses).\n",
        "* Lists & Dictionaries (to organize data).\n",
        "* If-Else & Loops (to process user input).\n",
        "* Functions (to modularize the code).\n",
        "* File Handling (to save and retrieve expenses).\n",
        "* APIs (requests) (to fetch currency exchange rates).\n",
        "* PyTest (to validate calculations)."
      ],
      "metadata": {
        "id": "SlY131CGPWgU"
      }
    },
    {
      "cell_type": "markdown",
      "source": [
        "Instructions:\n",
        "\n",
        "\n",
        "1.   Create a list of expenses where each expense is stored as a dictionary.\n",
        "2.   Ask the user for:\n",
        "\n",
        "\n",
        "*   Date of expense.\n",
        "*  Expense category (e.g., Food, Transport, Shopping).\n",
        "* Amount spent.\n",
        "\n",
        "3. Save the data and display total expenses."
      ],
      "metadata": {
        "id": "CXt9QevOQG_F"
      }
    },
    {
      "cell_type": "code",
      "source": [
        "# Expense Tracker - Collecting Expenses\n",
        "expenses = []\n",
        "\n",
        "while True:\n",
        "    date = input(\"Enter the date (YYYY-MM-DD) or type 'done' to stop: \")\n",
        "    if date.lower() == 'done':\n",
        "        break\n",
        "    category = input(\"Enter category (Food, Transport, Shopping, etc.): \")\n",
        "    amount = float(input(\"Enter amount spent: \"))\n",
        "\n",
        "    expense = {\"date\": date, \"category\": category, \"amount\": amount}\n",
        "    expenses.append(expense)\n",
        "\n",
        "# Display all expenses\n",
        "print(\"\\nYour Expenses:\")\n",
        "for expense in expenses:\n",
        "    print(expense)\n"
      ],
      "metadata": {
        "id": "G-JZ3u_gPULu"
      },
      "execution_count": null,
      "outputs": []
    },
    {
      "cell_type": "markdown",
      "source": [
        "Step 2: Set a Budget & Detect Overspending\n",
        "\n",
        "Instructions:\n",
        "\n",
        "* Ask the user for their monthly budget.\n",
        "* Compare the total expenses with the budget.\n",
        "* Print a warning if the user exceeds the budget."
      ],
      "metadata": {
        "id": "4flP9dShQkur"
      }
    },
    {
      "cell_type": "code",
      "source": [
        "# Calculate total spending\n",
        "total_spent = sum(expense[\"amount\"] for expense in expenses)\n",
        "print(f\"\\nTotal spent: ${total_spent:.2f}\")\n",
        "\n",
        "# Ask user for budget and check if they exceeded it\n",
        "budget = float(input(\"Enter your monthly budget: \"))\n",
        "\n",
        "# Check if the user is over budget\n"
      ],
      "metadata": {
        "id": "6BKnNijjQkRf"
      },
      "execution_count": null,
      "outputs": []
    },
    {
      "cell_type": "markdown",
      "source": [
        "Step 3: Save Expenses to a File\n",
        "\n",
        "Instructions:\n",
        "\n",
        "* Save all expenses to a CSV file (expenses.csv).\n",
        "* Allow the user to reload saved expenses when they restart the program."
      ],
      "metadata": {
        "id": "DFzlvdnvQln-"
      }
    },
    {
      "cell_type": "code",
      "source": [
        "import pandas as pd\n",
        "\n",
        "import pandas as pd\n",
        "\n",
        "# Save expenses to a CSV file\n",
        "# Load existing expenses if available\n"
      ],
      "metadata": {
        "id": "aVF2KFSpQmHD"
      },
      "execution_count": null,
      "outputs": []
    },
    {
      "cell_type": "markdown",
      "source": [
        "Step 4: Fetch Currency Exchange Rates (API)\n",
        "\n",
        "Instructions:\n",
        "\n",
        "* Fetch the latest exchange rates from an API.\n",
        "* Convert the total spending to EUR and GBP."
      ],
      "metadata": {
        "id": "4u3NiHbHZ9p5"
      }
    },
    {
      "cell_type": "code",
      "source": [
        "import requests\n",
        "\n",
        "import requests\n",
        "\n",
        "# Fetch exchange rates from an API\n",
        "# Convert total spending to EUR and GBP\n",
        "\n",
        "# print exchange rates\n",
        "# print total spent\n"
      ],
      "metadata": {
        "id": "mbYuxv8mQo5C"
      },
      "execution_count": null,
      "outputs": []
    },
    {
      "cell_type": "markdown",
      "source": [
        "Step 5: Write PyTest Cases\n",
        "\n",
        "Instructions:\n",
        "\n",
        "Write test cases for:\n",
        "* Budget Checking Function\n",
        "* Total Spending Calculation"
      ],
      "metadata": {
        "id": "YhSudf9kQorW"
      }
    },
    {
      "cell_type": "code",
      "source": [
        "# Save this as test_expense_tracker.py\n",
        "from main import calculate_budget_status, calculate_total_spent\n",
        "\n",
        "def test_calculate_total_spent():\n",
        "    # Write your test case here\n",
        "\n",
        "def test_calculate_budget_status():\n",
        "    # Write your test case here\n",
        "\n",
        "# Run tests:\n",
        "# pytest test_expense_tracker.py -v\n"
      ],
      "metadata": {
        "id": "W7u0tTlmaJoz"
      },
      "execution_count": null,
      "outputs": []
    },
    {
      "cell_type": "markdown",
      "source": [
        "Submission & Evaluation\n",
        "\n",
        "✅ Save your final notebook as Week1_Assignment.ipynb.\n",
        "\n",
        "✅ Upload it to your Google Drive folder.\n",
        "\n",
        "✅ Submit the Colab link to the team chat for review.\n",
        "\n",
        "\n",
        "\n",
        "---\n",
        "\n",
        "\n",
        "📊 Evaluation Criteria:\n",
        "\n",
        "\n",
        "✅ Correct implementation of expense tracking & budget checking.\n",
        "\n",
        "✅ Data is properly saved & retrieved from CSV.\n",
        "\n",
        "✅ API call successfully fetches exchange rates.\n",
        "\n",
        "✅ At least two PyTest cases implemented correctly."
      ],
      "metadata": {
        "id": "sGiAWj9BaVDp"
      }
    },
    {
      "cell_type": "markdown",
      "source": [
        "### Bonus Challenge: Add a Pie Chart for Expense Categories!\n",
        "\n",
        "### If you finish early, add a pie chart to visualize spending by category using matplotlib."
      ],
      "metadata": {
        "id": "x8vCaAVMacPX"
      }
    },
    {
      "cell_type": "code",
      "source": [
        "import matplotlib.pyplot as plt\n",
        "\n",
        "# Group expenses by category\n",
        "\n",
        "# Plot Pie Chart\n",
        "\n",
        "# plt.show()\n"
      ],
      "metadata": {
        "id": "wciKUbGNalvZ"
      },
      "execution_count": null,
      "outputs": []
    }
  ]
}